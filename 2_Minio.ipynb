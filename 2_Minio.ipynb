{
 "cells": [
  {
   "cell_type": "markdown",
   "metadata": {
    "slideshow": {
     "slide_type": "slide"
    }
   },
   "source": [
    "# 2. Minio as an S3 service (practical)\n",
    "\n",
    "***\n",
    "\n",
    "**ELMI 2021 NGFF Workshop**, 25 June 2021\n",
    "\n",
    "***\n",
    "\n",
    "\n",
    "\n",
    "## Summary\n",
    "\n",
    "* 2.1. Software versions\n",
    "* 2.2. Notebook reminders\n",
    "* 2.3. Uploading and downloading to S3\n",
    "  * 2.3.1 Minio Client (mc)\n",
    "  * 2.3.2 Connections\n",
    "  * 2.3.3 Adding your own\n",
    "  * 2.3.4 Your first download\n",
    "\n",
    "***\n",
    "\n",
    "## 2.1. Software versions used for this workshop:\n",
    "\n",
    "\n",
    "### 2.1.1 Running now\n",
    "\n",
    "* jupyter                   1.0.0 ([external guide](https://jupyter-notebook-beginner-guide.readthedocs.io/en/latest/))\n",
    "* conda 4.8.4 ([external guide](https://docs.conda.io/projects/conda/en/latest/user-guide/index.html))\n",
    "\n",
    "### 2.1.2 Core tools\n",
    "\n",
    "* **minio-client                     2020.11.17** ([install locally](https://docs.min.io/docs/minio-client-complete-guide.html))\n",
    "\n",
    "### 2.1.3 Other\n",
    "\n",
    "   * awscli                    1.18.219\n",
    "\n",
    "***\n",
    "\n",
    "## 2.2. Notebook reminders\n",
    "\n",
    "This notebook is somewhat unusual in that we use a lot of command-line tools. Each of the lines beginning with a exclamation mark (`!`) is run in a terminal.\n",
    "\n",
    "For example, you can use standard bash commands like `pwd` to see what directory you are in. When using mybinder, this will start with `/home/jovyan`. If you are interested in _why_, see [What is a Jovyan?](https://jupyter.readthedocs.io/en/latest/community/content-community.html#what-is-a-jovyan)\n"
   ]
  },
  {
   "cell_type": "code",
   "execution_count": 1,
   "metadata": {
    "scrolled": true
   },
   "outputs": [
    {
     "name": "stdout",
     "output_type": "stream",
     "text": [
      "/opt/elmi2021\r\n"
     ]
    }
   ],
   "source": [
    "!pwd"
   ]
  },
  {
   "cell_type": "markdown",
   "metadata": {},
   "source": [
    "The `binder/` directory contains a Conda [environment.yml](https://github.com/joshmoore/NGFF-GBI-2021-Workshop/blob/main/binder/environment.yml) file. You can use it to download all the tools we are using here."
   ]
  },
  {
   "cell_type": "code",
   "execution_count": 3,
   "metadata": {},
   "outputs": [
    {
     "name": "stdout",
     "output_type": "stream",
     "text": [
      "apt.txt         environment.yml\r\n"
     ]
    }
   ],
   "source": [
    "!ls binder/"
   ]
  },
  {
   "cell_type": "code",
   "execution_count": 4,
   "metadata": {
    "scrolled": true
   },
   "outputs": [
    {
     "name": "stdout",
     "output_type": "stream",
     "text": [
      "channels:\r\n",
      "  - ome\r\n",
      "  - conda-forge\r\n",
      "  - joshmoore\r\n",
      "  - defaults\r\n",
      "dependencies:\r\n",
      "  - python == 3.9.0\r\n",
      "  - napari\r\n",
      "  - ipython\r\n",
      "  - wheel\r\n",
      "  - requests\r\n",
      "  - s3fs\r\n",
      "  - scikit-image\r\n",
      "  - scipy\r\n",
      "  - xarray\r\n",
      "  - zarr >= 2.4.0\r\n",
      "  - bioformats2raw\r\n",
      "  - omero-py\r\n",
      "  - go-mc\r\n",
      "  - pip\r\n",
      "  - pip:\r\n",
      "      - PyQT5==5.13.1\r\n",
      "      - ome-zarr\r\n",
      "      - awscli\r\n",
      "      - omero-cli-zarr\r\n"
     ]
    }
   ],
   "source": [
    "!cat binder/environment.yml"
   ]
  },
  {
   "cell_type": "markdown",
   "metadata": {
    "slideshow": {
     "slide_type": "slide"
    }
   },
   "source": [
    "You can perform those actions on your own system _without_ a Jupyter notebook. For that, you will need to install the correct tools like `bioformats2raw` or run everything via `repo2docker`.\n",
    "\n",
    "See instructions under https://github.com/joshmoore/NGFF-ELMI-2021-Workshop/blob/main/README.md\n",
    " \n",
    "*** "
   ]
  },
  {
   "cell_type": "markdown",
   "metadata": {
    "slideshow": {
     "slide_type": "slide"
    }
   },
   "source": [
    "## 2.3.1 Minio client\n",
    "\n",
    "There are a number of different types of cloud storage and there are a number of tools that you can use to access your cloud storage, but here we're going to focus on a single one `mc`.\n",
    "\n",
    "`mc` is provided by the minio project and is described as \"a modern alternative to UNIX commands like ls, cat, cp, mirror, diff, find etc.\" The quickstart guide can be found under https://docs.minio.io/docs/minio-client-quickstart-guide.html For our purposes we'll focus on how to use it to upload and manage data in S3."
   ]
  },
  {
   "cell_type": "code",
   "execution_count": 5,
   "metadata": {},
   "outputs": [
    {
     "name": "stdout",
     "output_type": "stream",
     "text": [
      "NAME:\r\n",
      "  mc - MinIO Client for cloud storage and filesystems.\r\n",
      "\r\n",
      "USAGE:\r\n",
      "  mc [FLAGS] COMMAND [COMMAND FLAGS | -h] [ARGUMENTS...]\r\n",
      "\r\n",
      "COMMANDS:\r\n",
      "  alias      set, remove and list aliases in configuration file\r\n",
      "  ls         list buckets and objects\r\n",
      "  mb         make a bucket\r\n",
      "  rb         remove a bucket\r\n",
      "  cp         copy objects\r\n",
      "  mirror     synchronize object(s) to a remote site\r\n",
      "  cat        display object contents\r\n",
      "  head       display first 'n' lines of an object\r\n",
      "  pipe       stream STDIN to an object\r\n",
      "  share      generate URL for temporary access to an object\r\n",
      "  find       search for objects\r\n",
      "  sql        run sql queries on objects\r\n",
      "  stat       show object metadata\r\n",
      "  mv         move objects\r\n",
      "  tree       list buckets and objects in a tree format\r\n",
      "  du         summarize disk usage recursively\r\n",
      "  retention  set retention for object(s)\r\n",
      "  legalhold  manage legal hold for object(s)\r\n",
      "  diff       list differences in object name, size, and date between two buckets\r\n",
      "  rm         remove objects\r\n",
      "  version    manage bucket versioning\r\n",
      "  ilm        manage bucket lifecycle\r\n",
      "  encrypt    manage bucket encryption config\r\n",
      "  event      manage object notifications\r\n",
      "  watch      listen for object notification events\r\n",
      "  undo       undo PUT/DELETE operations\r\n",
      "  policy     manage anonymous access to buckets and objects\r\n",
      "  tag        manage tags for bucket and object(s)\r\n",
      "  replicate  configure server side bucket replication\r\n",
      "  admin      manage MinIO servers\r\n",
      "  update     update mc to latest release\r\n",
      "  \r\n",
      "GLOBAL FLAGS:\r\n",
      "  --autocompletion              install auto-completion for your shell\r\n",
      "  --config-dir value, -C value  path to configuration folder (default: \"/Users/jamoore/.mc\")\r\n",
      "  --quiet, -q                   disable progress bar display\r\n",
      "  --no-color                    disable color theme\r\n",
      "  --json                        enable JSON lines formatted output\r\n",
      "  --debug                       enable debug output\r\n",
      "  --insecure                    disable SSL certificate verification\r\n",
      "  --help, -h                    show help\r\n",
      "  --version, -v                 print the version\r\n",
      "  \r\n",
      "TIP:\r\n",
      "  Use 'mc --autocompletion' to enable shell autocompletion\r\n",
      "\r\n",
      "VERSION:\r\n",
      "  RELEASE.2021-02-10T07-32-57Z\r\n"
     ]
    }
   ],
   "source": [
    "!mc"
   ]
  },
  {
   "cell_type": "markdown",
   "metadata": {},
   "source": [
    "## 2.3.2 Connections\n",
    "\n",
    "The minio project provides a safe space for you to learn about S3: https://play.minio.io:9000/minio/ Here we've used the `mc` command to find the access information:\n",
    "\n",
    " * **\"AccessKey\"** is basically a user name.\n",
    " * **\"SecretKey\"** is basically a password. \n",
    " * The URL is our **\"endpoint\"**, which differentiates it from the S3 servers provided by Amazon.\n",
    "\n",
    "You can log in to the webpage and explore what the many other users have upload at https://play.minio.io:9000/minio/\n",
    "\n",
    "The other two important concepts are:\n",
    " * **\"buckets\"** which is roughly like a shared namespace with permissions\n",
    " * and **\"keys\"** which will get to in a second."
   ]
  },
  {
   "cell_type": "code",
   "execution_count": 8,
   "metadata": {},
   "outputs": [
    {
     "name": "stdout",
     "output_type": "stream",
     "text": [
      "\u001b[m\u001b[36;1mplay\r\n",
      "\u001b[0m\u001b[33m  URL       : https://play.min.io\r\n",
      "\u001b[0m\u001b[36m  AccessKey : Q3AM3UQ867SPQQA43P2F\r\n",
      "\u001b[0m\u001b[36m  SecretKey : zuf+tfteSlswRu7BJ86wekitnifILbZam1KYY3TG\r\n",
      "\u001b[0m\u001b[34m  API       : S3v4\r\n",
      "\u001b[0m\u001b[36m  Path      : auto\r\n",
      "\u001b[0m\r\n",
      "\u001b[0m"
     ]
    }
   ],
   "source": [
    "!mc config host list play"
   ]
  },
  {
   "cell_type": "markdown",
   "metadata": {},
   "source": [
    "## 2.3.3 Adding your own\n",
    "\n",
    "But EMBL has kindly provided us a bucket for this session which we need to connect to. Please enter the password you were sent below:"
   ]
  },
  {
   "cell_type": "code",
   "execution_count": 13,
   "metadata": {},
   "outputs": [
    {
     "name": "stdout",
     "output_type": "stream",
     "text": [
      "········\n"
     ]
    }
   ],
   "source": [
    "# Python block for capturing a password\n",
    "import getpass\n",
    "s3_pass = getpass.getpass()"
   ]
  },
  {
   "cell_type": "code",
   "execution_count": 14,
   "metadata": {
    "scrolled": true
   },
   "outputs": [
    {
     "name": "stdout",
     "output_type": "stream",
     "text": [
      "\u001b[m\u001b[32mAdded `gbi` successfully.\u001b[0m\r\n",
      "\u001b[0m"
     ]
    }
   ],
   "source": [
    "!mc config host add gbi https://s3.embl.de bioim-user $s3_pass"
   ]
  },
  {
   "cell_type": "code",
   "execution_count": 15,
   "metadata": {},
   "outputs": [
    {
     "name": "stdout",
     "output_type": "stream",
     "text": [
      "\u001b[m\u001b[32m[2021-01-28 20:38:06 CET]\u001b[0m\u001b[33m 3.1KiB\u001b[0m\u001b[1m 404.html\u001b[0m\r\n",
      "\u001b[0m\u001b[m\u001b[32m[2021-01-28 20:38:09 CET]\u001b[0m\u001b[33m  19KiB\u001b[0m\u001b[1m index.html\u001b[0m\r\n",
      "\u001b[0m\u001b[m\u001b[32m[2021-01-21 18:26:48 CET]\u001b[0m\u001b[33m  32KiB\u001b[0m\u001b[1m s3-browser.html\u001b[0m\r\n",
      "\u001b[0m\u001b[m\u001b[32m[2021-01-29 12:58:58 CET]\u001b[0m\u001b[33m     0B\u001b[0m\u001b[36;1m _next/\u001b[0m\r\n",
      "\u001b[0m\u001b[m\u001b[32m[2021-01-29 12:58:58 CET]\u001b[0m\u001b[33m     0B\u001b[0m\u001b[36;1m idr0023/\u001b[0m\r\n",
      "\u001b[0m\u001b[m\u001b[32m[2021-01-29 12:58:58 CET]\u001b[0m\u001b[33m     0B\u001b[0m\u001b[36;1m idr0062-tiffs/\u001b[0m\r\n",
      "\u001b[0m\u001b[m\u001b[32m[2021-01-29 12:58:58 CET]\u001b[0m\u001b[33m     0B\u001b[0m\u001b[36;1m idr0062-zarrs/\u001b[0m\r\n",
      "\u001b[0m\u001b[m\u001b[32m[2021-01-29 12:58:58 CET]\u001b[0m\u001b[33m     0B\u001b[0m\u001b[36;1m josh/\u001b[0m\r\n",
      "\u001b[0m"
     ]
    }
   ],
   "source": [
    "!mc ls gbi/bioim"
   ]
  },
  {
   "cell_type": "code",
   "execution_count": 16,
   "metadata": {},
   "outputs": [
    {
     "name": "stdout",
     "output_type": "stream",
     "text": [
      "\u001b[m\u001b[32m[2021-01-28 17:46:35 CET]\u001b[0m\u001b[33m  68MiB\u001b[0m\u001b[1m B1_C1.tif\u001b[0m\r\n",
      "\u001b[0m\u001b[m\u001b[32m[2021-01-28 17:46:35 CET]\u001b[0m\u001b[33m  67MiB\u001b[0m\u001b[1m B1_C1_Manual.tif\u001b[0m\r\n",
      "\u001b[0m\u001b[m\u001b[32m[2021-01-28 17:46:35 CET]\u001b[0m\u001b[33m  66MiB\u001b[0m\u001b[1m B1_C2.tif\u001b[0m\r\n",
      "\u001b[0m\u001b[m\u001b[32m[2021-01-28 17:46:35 CET]\u001b[0m\u001b[33m  66MiB\u001b[0m\u001b[1m B1_C2_Manual.tif\u001b[0m\r\n",
      "\u001b[0m\u001b[m\u001b[32m[2021-01-28 17:46:35 CET]\u001b[0m\u001b[33m 120MiB\u001b[0m\u001b[1m B2_C1.tif\u001b[0m\r\n",
      "\u001b[0m\u001b[m\u001b[32m[2021-01-28 17:46:35 CET]\u001b[0m\u001b[33m 120MiB\u001b[0m\u001b[1m B2_C1_Manual.tif\u001b[0m\r\n",
      "\u001b[0m\u001b[m\u001b[32m[2021-01-28 17:46:35 CET]\u001b[0m\u001b[33m  42MiB\u001b[0m\u001b[1m B2_C2.tif\u001b[0m\r\n",
      "\u001b[0m\u001b[m\u001b[32m[2021-01-28 17:46:35 CET]\u001b[0m\u001b[33m  42MiB\u001b[0m\u001b[1m B2_C2_Manual.tif\u001b[0m\r\n",
      "\u001b[0m\u001b[m\u001b[32m[2021-01-28 17:46:35 CET]\u001b[0m\u001b[33m  84MiB\u001b[0m\u001b[1m B3.tif\u001b[0m\r\n",
      "\u001b[0m\u001b[m\u001b[32m[2021-01-28 17:46:35 CET]\u001b[0m\u001b[33m  83MiB\u001b[0m\u001b[1m B3_Manual.tif\u001b[0m\r\n",
      "\u001b[0m\u001b[m\u001b[32m[2021-01-28 17:46:35 CET]\u001b[0m\u001b[33m  49MiB\u001b[0m\u001b[1m B4_C1.tif\u001b[0m\r\n",
      "\u001b[0m\u001b[m\u001b[32m[2021-01-28 17:46:35 CET]\u001b[0m\u001b[33m  49MiB\u001b[0m\u001b[1m B4_C1_Manual.tif\u001b[0m\r\n",
      "\u001b[0m\u001b[m\u001b[32m[2021-01-28 17:46:35 CET]\u001b[0m\u001b[33m  79MiB\u001b[0m\u001b[1m B4_C2.tif\u001b[0m\r\n",
      "\u001b[0m\u001b[m\u001b[32m[2021-01-28 17:46:35 CET]\u001b[0m\u001b[33m  78MiB\u001b[0m\u001b[1m B4_C2_Manual.tif\u001b[0m\r\n",
      "\u001b[0m\u001b[m\u001b[32m[2021-01-28 17:46:35 CET]\u001b[0m\u001b[33m  53MiB\u001b[0m\u001b[1m B4_C3.tif\u001b[0m\r\n",
      "\u001b[0m\u001b[m\u001b[32m[2021-01-28 17:46:35 CET]\u001b[0m\u001b[33m  52MiB\u001b[0m\u001b[1m B4_C3_Manual.tif\u001b[0m\r\n",
      "\u001b[0m\u001b[m\u001b[32m[2021-01-28 17:46:35 CET]\u001b[0m\u001b[33m  47MiB\u001b[0m\u001b[1m B5_C1.tif\u001b[0m\r\n",
      "\u001b[0m\u001b[m\u001b[32m[2021-01-28 17:46:35 CET]\u001b[0m\u001b[33m  47MiB\u001b[0m\u001b[1m B5_C1_Manual.tif\u001b[0m\r\n",
      "\u001b[0m\u001b[m\u001b[32m[2021-01-28 17:46:35 CET]\u001b[0m\u001b[33m  44MiB\u001b[0m\u001b[1m B5_C2.tif\u001b[0m\r\n",
      "\u001b[0m\u001b[m\u001b[32m[2021-01-28 17:46:35 CET]\u001b[0m\u001b[33m  44MiB\u001b[0m\u001b[1m B5_C2_Manual.tif\u001b[0m\r\n",
      "\u001b[0m\u001b[m\u001b[32m[2021-01-28 17:46:35 CET]\u001b[0m\u001b[33m  44MiB\u001b[0m\u001b[1m B5_C3.tif\u001b[0m\r\n",
      "\u001b[0m\u001b[m\u001b[32m[2021-01-28 17:46:35 CET]\u001b[0m\u001b[33m  44MiB\u001b[0m\u001b[1m B5_C3_Manual.tif\u001b[0m\r\n",
      "\u001b[0m"
     ]
    }
   ],
   "source": [
    "!mc ls gbi/bioim/idr0062-tiffs/"
   ]
  },
  {
   "cell_type": "code",
   "execution_count": 17,
   "metadata": {},
   "outputs": [
    {
     "name": "stdout",
     "output_type": "stream",
     "text": [
      "\u001b[m\u001b[32m[2021-01-29 12:59:59 CET]\u001b[0m\u001b[33m     0B\u001b[0m\u001b[36;1m 6001237.zarr/\u001b[0m\r\n",
      "\u001b[0m\u001b[m\u001b[32m[2021-01-29 12:59:59 CET]\u001b[0m\u001b[33m     0B\u001b[0m\u001b[36;1m 6001238.zarr/\u001b[0m\r\n",
      "\u001b[0m\u001b[m\u001b[32m[2021-01-29 12:59:59 CET]\u001b[0m\u001b[33m     0B\u001b[0m\u001b[36;1m 6001239.zarr/\u001b[0m\r\n",
      "\u001b[0m\u001b[m\u001b[32m[2021-01-29 12:59:59 CET]\u001b[0m\u001b[33m     0B\u001b[0m\u001b[36;1m 6001240.zarr/\u001b[0m\r\n",
      "\u001b[0m\u001b[m\u001b[32m[2021-01-29 12:59:59 CET]\u001b[0m\u001b[33m     0B\u001b[0m\u001b[36;1m 6001241.zarr/\u001b[0m\r\n",
      "\u001b[0m\u001b[m\u001b[32m[2021-01-29 12:59:59 CET]\u001b[0m\u001b[33m     0B\u001b[0m\u001b[36;1m 6001242.zarr/\u001b[0m\r\n",
      "\u001b[0m\u001b[m\u001b[32m[2021-01-29 12:59:59 CET]\u001b[0m\u001b[33m     0B\u001b[0m\u001b[36;1m 6001243.zarr/\u001b[0m\r\n",
      "\u001b[0m\u001b[m\u001b[32m[2021-01-29 12:59:59 CET]\u001b[0m\u001b[33m     0B\u001b[0m\u001b[36;1m 6001244.zarr/\u001b[0m\r\n",
      "\u001b[0m\u001b[m\u001b[32m[2021-01-29 12:59:59 CET]\u001b[0m\u001b[33m     0B\u001b[0m\u001b[36;1m 6001245.zarr/\u001b[0m\r\n",
      "\u001b[0m\u001b[m\u001b[32m[2021-01-29 12:59:59 CET]\u001b[0m\u001b[33m     0B\u001b[0m\u001b[36;1m 6001246.zarr/\u001b[0m\r\n",
      "\u001b[0m\u001b[m\u001b[32m[2021-01-29 12:59:59 CET]\u001b[0m\u001b[33m     0B\u001b[0m\u001b[36;1m 6001247.zarr/\u001b[0m\r\n",
      "\u001b[0m\u001b[m\u001b[32m[2021-01-29 12:59:59 CET]\u001b[0m\u001b[33m     0B\u001b[0m\u001b[36;1m 6001248.zarr/\u001b[0m\r\n",
      "\u001b[0m\u001b[m\u001b[32m[2021-01-29 12:59:59 CET]\u001b[0m\u001b[33m     0B\u001b[0m\u001b[36;1m 6001249.zarr/\u001b[0m\r\n",
      "\u001b[0m\u001b[m\u001b[32m[2021-01-29 12:59:59 CET]\u001b[0m\u001b[33m     0B\u001b[0m\u001b[36;1m 6001250.zarr/\u001b[0m\r\n",
      "\u001b[0m\u001b[m\u001b[32m[2021-01-29 12:59:59 CET]\u001b[0m\u001b[33m     0B\u001b[0m\u001b[36;1m 6001251.zarr/\u001b[0m\r\n",
      "\u001b[0m\u001b[m\u001b[32m[2021-01-29 12:59:59 CET]\u001b[0m\u001b[33m     0B\u001b[0m\u001b[36;1m 6001252.zarr/\u001b[0m\r\n",
      "\u001b[0m\u001b[m\u001b[32m[2021-01-29 12:59:59 CET]\u001b[0m\u001b[33m     0B\u001b[0m\u001b[36;1m 6001253.zarr/\u001b[0m\r\n",
      "\u001b[0m\u001b[m\u001b[32m[2021-01-29 12:59:59 CET]\u001b[0m\u001b[33m     0B\u001b[0m\u001b[36;1m 6001254.zarr/\u001b[0m\r\n",
      "\u001b[0m\u001b[m\u001b[32m[2021-01-29 12:59:59 CET]\u001b[0m\u001b[33m     0B\u001b[0m\u001b[36;1m 6001255.zarr/\u001b[0m\r\n",
      "\u001b[0m\u001b[m\u001b[32m[2021-01-29 12:59:59 CET]\u001b[0m\u001b[33m     0B\u001b[0m\u001b[36;1m 6001256.zarr/\u001b[0m\r\n",
      "\u001b[0m\u001b[m\u001b[32m[2021-01-29 12:59:59 CET]\u001b[0m\u001b[33m     0B\u001b[0m\u001b[36;1m 6001257.zarr/\u001b[0m\r\n",
      "\u001b[0m\u001b[m\u001b[32m[2021-01-29 12:59:59 CET]\u001b[0m\u001b[33m     0B\u001b[0m\u001b[36;1m 6001258.zarr/\u001b[0m\r\n",
      "\u001b[0m"
     ]
    }
   ],
   "source": [
    "!mc ls gbi/bioim/idr0062-zarrs/"
   ]
  },
  {
   "cell_type": "code",
   "execution_count": 18,
   "metadata": {},
   "outputs": [
    {
     "name": "stdout",
     "output_type": "stream",
     "text": [
      "\u001b[m\u001b[32m[2021-01-28 10:22:33 CET]\u001b[0m\u001b[33m    44B\u001b[0m\u001b[1m README.txt\u001b[0m\r\n",
      "\u001b[0m\u001b[m\u001b[32m[2021-01-28 10:21:53 CET]\u001b[0m\u001b[33m 2.0MiB\u001b[0m\u001b[1m trans_norm.tif\u001b[0m\r\n",
      "\u001b[0m\u001b[m\u001b[32m[2021-01-29 13:00:27 CET]\u001b[0m\u001b[33m     0B\u001b[0m\u001b[36;1m trans_norm.ome.zarr/\u001b[0m\r\n",
      "\u001b[0m"
     ]
    }
   ],
   "source": [
    "!mc ls gbi/bioim/idr0023/"
   ]
  },
  {
   "cell_type": "markdown",
   "metadata": {},
   "source": [
    "## 2.3.4 Your first download"
   ]
  },
  {
   "cell_type": "markdown",
   "metadata": {},
   "source": [
    "Now you can see list the contents of the bucket and see that it's there. Note that since other people are working on the same bucket, it may look slightly different each time you run this command."
   ]
  },
  {
   "cell_type": "code",
   "execution_count": 22,
   "metadata": {
    "scrolled": true
   },
   "outputs": [
    {
     "name": "stdout",
     "output_type": "stream",
     "text": [
      "..._norm.tif:  2.04 MiB / 2.04 MiB  ▓▓▓▓▓▓▓▓▓▓▓▓▓▓▓▓▓▓▓▓▓▓▓▓▓▓▓  236.18 KiB/s 8s\u001b[0m\u001b[0m\u001b[m\u001b[32;1m\u001b[m\u001b[32;1m\u001b[m\u001b[32;1m\u001b[m\u001b[32;1m\u001b[m\u001b[32;1m\u001b[m\u001b[32;1m\u001b[m\u001b[32;1m\u001b[m\u001b[32;1m\u001b[m\u001b[32;1m\u001b[m\u001b[32;1m\u001b[m\u001b[32;1m\u001b[m\u001b[32;1m\u001b[m\u001b[32;1m\u001b[m\u001b[32;1m\u001b[m\u001b[32;1m\u001b[m\u001b[32;1m\u001b[m\u001b[32;1m\u001b[m\u001b[32;1m\u001b[m\u001b[32;1m\u001b[m\u001b[32;1m\u001b[m\u001b[32;1m\u001b[m\u001b[32;1m\u001b[m\u001b[32;1m\u001b[m\u001b[32;1m\u001b[m\u001b[32;1m\u001b[m\u001b[32;1m\u001b[m\u001b[32;1m\u001b[m\u001b[32;1m\u001b[m\u001b[32;1m\u001b[m\u001b[32;1m\u001b[m\u001b[32;1m\u001b[m\u001b[32;1m\u001b[m\u001b[32;1m\u001b[m\u001b[32;1m\u001b[m\u001b[32;1m\u001b[m\u001b[32;1m\u001b[m\u001b[32;1m\u001b[m\u001b[32;1m\u001b[m\u001b[32;1m\u001b[m\u001b[32;1m\u001b[m\u001b[32;1m\u001b[m\u001b[32;1m\u001b[m\u001b[32;1m\u001b[m\u001b[32;1m\u001b[m\u001b[32;1m\u001b[m\u001b[32;1m\u001b[m\u001b[32;1m\u001b[m\u001b[32;1m\u001b[m\u001b[32;1m\u001b[m\u001b[32;1m\u001b[m\u001b[32;1m\u001b[m\u001b[32;1m\u001b[m\u001b[32;1m\u001b[m\u001b[32;1m\u001b[m\u001b[32;1m\u001b[m\u001b[32;1m\u001b[m\u001b[32;1m\u001b[m\u001b[32;1m\u001b[m\u001b[32;1m\u001b[m\u001b[32;1m\u001b[m\u001b[32;1m\u001b[m\u001b[32;1m\u001b[m\u001b[32;1m\u001b[m\u001b[32;1m\u001b[m\u001b[32;1m\u001b[m\u001b[32;1m\u001b[m\u001b[32;1m\u001b[m\u001b[32;1m\u001b[m\u001b[32;1m\u001b[m\u001b[32;1m"
     ]
    }
   ],
   "source": [
    "!mc cp gbi/bioim/idr0023/trans_norm.tif julia.tif"
   ]
  },
  {
   "cell_type": "code",
   "execution_count": 20,
   "metadata": {
    "scrolled": true
   },
   "outputs": [
    {
     "name": "stdout",
     "output_type": "stream",
     "text": [
      "-rw-r--r--  1 jamoore  wheel   2.0M Jan 29 13:00 /tmp/trans_norm.tif\r\n"
     ]
    }
   ],
   "source": [
    "!ls -ltrah /tmp/trans_norm.tif"
   ]
  },
  {
   "cell_type": "markdown",
   "metadata": {
    "collapsed": true
   },
   "source": [
    "### License\n",
    "Copyright (C) 2021 University of Dundee. All Rights Reserved.\n",
    "This program is free software; you can redistribute it and/or modify it\n",
    "under the terms of the GNU General Public License as published by the\n",
    "Free Software Foundation; either version 2 of the License, or\n",
    "(at your option) any later version.\n",
    "This program is distributed in the hope that it will be useful, but\n",
    "WITHOUT ANY WARRANTY; without even the implied warranty of MERCHANTABILITY\n",
    "or FITNESS FOR A PARTICULAR PURPOSE. See the GNU General Public License for\n",
    "more details. You should have received a copy of the GNU General\n",
    "Public License along with this program; if not, write to the\n",
    "Free Software Foundation,\n",
    "Inc., 51 Franklin Street, Fifth Floor, Boston, MA 02110-1301 USA."
   ]
  }
 ],
 "metadata": {
  "anaconda-cloud": {},
  "kernelspec": {
   "display_name": "Python 3",
   "language": "python",
   "name": "python3"
  },
  "language_info": {
   "codemirror_mode": {
    "name": "ipython",
    "version": 3
   },
   "file_extension": ".py",
   "mimetype": "text/x-python",
   "name": "python",
   "nbconvert_exporter": "python",
   "pygments_lexer": "ipython3",
   "version": "3.9.1"
  },
  "toc": {
   "base_numbering": 1,
   "nav_menu": {},
   "number_sections": false,
   "sideBar": false,
   "skip_h1_title": false,
   "title_cell": "Table of Contents",
   "title_sidebar": "Contents",
   "toc_cell": false,
   "toc_position": {},
   "toc_section_display": false,
   "toc_window_display": false
  }
 },
 "nbformat": 4,
 "nbformat_minor": 4
}
