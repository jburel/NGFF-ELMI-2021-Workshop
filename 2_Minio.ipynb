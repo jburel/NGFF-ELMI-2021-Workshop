{
 "cells": [
  {
   "cell_type": "markdown",
   "metadata": {
    "slideshow": {
     "slide_type": "slide"
    }
   },
   "source": [
    "# 2. Minio as an S3 service (practical)\n",
    "\n",
    "***\n",
    "\n",
    "**ELMI 2021 NGFF Workshop**, 25 June 2021\n",
    "\n",
    "***\n",
    "\n",
    "\n",
    "## Summary\n",
    "\n",
    "\n",
    "* 2.1 Minio Client (mc)\n",
    "* 2.2 Connections\n",
    "* 2.3 Adding your own\n",
    "* 2.4 Your first download"
   ]
  },
  {
   "cell_type": "markdown",
   "metadata": {
    "slideshow": {
     "slide_type": "slide"
    }
   },
   "source": [
    "## 2.1 Minio client\n",
    "\n",
    "There are a number of different types of cloud storage and there are a number of tools that you can use to access your cloud storage, but here we're going to focus on a single one `mc`.\n",
    "\n",
    "`mc` is provided by the minio project and is described as \"a modern alternative to UNIX commands like ls, cat, cp, mirror, diff, find etc.\" The quickstart guide can be found under https://docs.minio.io/docs/minio-client-quickstart-guide.html For our purposes we'll focus on how to use it to upload and manage data in S3."
   ]
  },
  {
   "cell_type": "code",
   "execution_count": 5,
   "metadata": {},
   "outputs": [
    {
     "name": "stdout",
     "output_type": "stream",
     "text": [
      "NAME:\r\n",
      "  mc - MinIO Client for cloud storage and filesystems.\r\n",
      "\r\n",
      "USAGE:\r\n",
      "  mc [FLAGS] COMMAND [COMMAND FLAGS | -h] [ARGUMENTS...]\r\n",
      "\r\n",
      "COMMANDS:\r\n",
      "  alias      set, remove and list aliases in configuration file\r\n",
      "  ls         list buckets and objects\r\n",
      "  mb         make a bucket\r\n",
      "  rb         remove a bucket\r\n",
      "  cp         copy objects\r\n",
      "  mirror     synchronize object(s) to a remote site\r\n",
      "  cat        display object contents\r\n",
      "  head       display first 'n' lines of an object\r\n",
      "  pipe       stream STDIN to an object\r\n",
      "  share      generate URL for temporary access to an object\r\n",
      "  find       search for objects\r\n",
      "  sql        run sql queries on objects\r\n",
      "  stat       show object metadata\r\n",
      "  mv         move objects\r\n",
      "  tree       list buckets and objects in a tree format\r\n",
      "  du         summarize disk usage recursively\r\n",
      "  retention  set retention for object(s)\r\n",
      "  legalhold  manage legal hold for object(s)\r\n",
      "  diff       list differences in object name, size, and date between two buckets\r\n",
      "  rm         remove objects\r\n",
      "  version    manage bucket versioning\r\n",
      "  ilm        manage bucket lifecycle\r\n",
      "  encrypt    manage bucket encryption config\r\n",
      "  event      manage object notifications\r\n",
      "  watch      listen for object notification events\r\n",
      "  undo       undo PUT/DELETE operations\r\n",
      "  policy     manage anonymous access to buckets and objects\r\n",
      "  tag        manage tags for bucket and object(s)\r\n",
      "  replicate  configure server side bucket replication\r\n",
      "  admin      manage MinIO servers\r\n",
      "  update     update mc to latest release\r\n",
      "  \r\n",
      "GLOBAL FLAGS:\r\n",
      "  --autocompletion              install auto-completion for your shell\r\n",
      "  --config-dir value, -C value  path to configuration folder (default: \"/Users/jamoore/.mc\")\r\n",
      "  --quiet, -q                   disable progress bar display\r\n",
      "  --no-color                    disable color theme\r\n",
      "  --json                        enable JSON lines formatted output\r\n",
      "  --debug                       enable debug output\r\n",
      "  --insecure                    disable SSL certificate verification\r\n",
      "  --help, -h                    show help\r\n",
      "  --version, -v                 print the version\r\n",
      "  \r\n",
      "TIP:\r\n",
      "  Use 'mc --autocompletion' to enable shell autocompletion\r\n",
      "\r\n",
      "VERSION:\r\n",
      "  RELEASE.2021-02-10T07-32-57Z\r\n"
     ]
    }
   ],
   "source": [
    "!mc"
   ]
  },
  {
   "cell_type": "markdown",
   "metadata": {},
   "source": [
    "## 2.2 Connections\n",
    "\n",
    "The minio project provides a safe space for you to learn about S3: https://play.minio.io:9000/minio/ Here we've used the `mc` command to find the access information:\n",
    "\n",
    " * **\"AccessKey\"** is basically a user name.\n",
    " * **\"SecretKey\"** is basically a password. \n",
    " * The URL is our **\"endpoint\"**, which differentiates it from the S3 servers provided by Amazon.\n",
    "\n",
    "You can log in to the webpage and explore what the many other users have upload at https://play.minio.io:9000/minio/\n",
    "\n",
    "The other two important concepts are:\n",
    " * **\"buckets\"** which is roughly like a shared namespace with permissions\n",
    " * and **\"keys\"** which will get to in a second."
   ]
  },
  {
   "cell_type": "code",
   "execution_count": 8,
   "metadata": {},
   "outputs": [
    {
     "name": "stdout",
     "output_type": "stream",
     "text": [
      "\u001b[m\u001b[36;1mplay\r\n",
      "\u001b[0m\u001b[33m  URL       : https://play.min.io\r\n",
      "\u001b[0m\u001b[36m  AccessKey : Q3AM3UQ867SPQQA43P2F\r\n",
      "\u001b[0m\u001b[36m  SecretKey : zuf+tfteSlswRu7BJ86wekitnifILbZam1KYY3TG\r\n",
      "\u001b[0m\u001b[34m  API       : S3v4\r\n",
      "\u001b[0m\u001b[36m  Path      : auto\r\n",
      "\u001b[0m\r\n",
      "\u001b[0m"
     ]
    }
   ],
   "source": [
    "!mc config host list play"
   ]
  },
  {
   "cell_type": "markdown",
   "metadata": {},
   "source": [
    "## 2.3 Adding your own\n",
    "\n",
    "But EMBL has kindly provided us a bucket for this session which we need to connect to. Please enter the password you were sent below:"
   ]
  },
  {
   "cell_type": "code",
   "execution_count": 1,
   "metadata": {},
   "outputs": [
    {
     "name": "stdout",
     "output_type": "stream",
     "text": [
      "········\n"
     ]
    }
   ],
   "source": [
    "# Python block for capturing a password\n",
    "import getpass\n",
    "s3_pass = getpass.getpass()"
   ]
  },
  {
   "cell_type": "code",
   "execution_count": 2,
   "metadata": {
    "scrolled": true
   },
   "outputs": [
    {
     "name": "stdout",
     "output_type": "stream",
     "text": [
      "\u001b[m\u001b[32mAdded `elmi2021` successfully.\u001b[0m\r\n",
      "\u001b[0m"
     ]
    }
   ],
   "source": [
    "!mc config host add elmi2021 https://idr-ftp.openmicroscopy.org elmi2021 $s3_pass"
   ]
  },
  {
   "cell_type": "code",
   "execution_count": 4,
   "metadata": {},
   "outputs": [
    {
     "name": "stdout",
     "output_type": "stream",
     "text": [
      "\u001b[m\u001b[32m[2021-06-21 15:12:13 CEST]\u001b[0m\u001b[33m    84B\u001b[0m\u001b[1m README.txt\u001b[0m\r\n",
      "\u001b[0m\u001b[m\u001b[32m[2021-06-22 17:00:25 CEST]\u001b[0m\u001b[33m     0B\u001b[0m\u001b[36;1m idr0023/\u001b[0m\r\n",
      "\u001b[0m"
     ]
    }
   ],
   "source": [
    "!mc ls elmi2021/idr-upload/elmi2021/"
   ]
  },
  {
   "cell_type": "code",
   "execution_count": 5,
   "metadata": {},
   "outputs": [
    {
     "name": "stdout",
     "output_type": "stream",
     "text": [
      "\u001b[m\u001b[32m[2021-06-22 17:00:38 CEST]\u001b[0m\u001b[33m     0B\u001b[0m\u001b[36;1m idr0023/\u001b[0m\r\n",
      "\u001b[0m"
     ]
    }
   ],
   "source": [
    "!mc ls elmi2021/idr-upload/elmi2021/idr0023/"
   ]
  },
  {
   "cell_type": "code",
   "execution_count": 17,
   "metadata": {},
   "outputs": [
    {
     "name": "stdout",
     "output_type": "stream",
     "text": [
      "\u001b[m\u001b[32m[2021-01-29 12:59:59 CET]\u001b[0m\u001b[33m     0B\u001b[0m\u001b[36;1m 6001237.zarr/\u001b[0m\r\n",
      "\u001b[0m\u001b[m\u001b[32m[2021-01-29 12:59:59 CET]\u001b[0m\u001b[33m     0B\u001b[0m\u001b[36;1m 6001238.zarr/\u001b[0m\r\n",
      "\u001b[0m\u001b[m\u001b[32m[2021-01-29 12:59:59 CET]\u001b[0m\u001b[33m     0B\u001b[0m\u001b[36;1m 6001239.zarr/\u001b[0m\r\n",
      "\u001b[0m\u001b[m\u001b[32m[2021-01-29 12:59:59 CET]\u001b[0m\u001b[33m     0B\u001b[0m\u001b[36;1m 6001240.zarr/\u001b[0m\r\n",
      "\u001b[0m\u001b[m\u001b[32m[2021-01-29 12:59:59 CET]\u001b[0m\u001b[33m     0B\u001b[0m\u001b[36;1m 6001241.zarr/\u001b[0m\r\n",
      "\u001b[0m\u001b[m\u001b[32m[2021-01-29 12:59:59 CET]\u001b[0m\u001b[33m     0B\u001b[0m\u001b[36;1m 6001242.zarr/\u001b[0m\r\n",
      "\u001b[0m\u001b[m\u001b[32m[2021-01-29 12:59:59 CET]\u001b[0m\u001b[33m     0B\u001b[0m\u001b[36;1m 6001243.zarr/\u001b[0m\r\n",
      "\u001b[0m\u001b[m\u001b[32m[2021-01-29 12:59:59 CET]\u001b[0m\u001b[33m     0B\u001b[0m\u001b[36;1m 6001244.zarr/\u001b[0m\r\n",
      "\u001b[0m\u001b[m\u001b[32m[2021-01-29 12:59:59 CET]\u001b[0m\u001b[33m     0B\u001b[0m\u001b[36;1m 6001245.zarr/\u001b[0m\r\n",
      "\u001b[0m\u001b[m\u001b[32m[2021-01-29 12:59:59 CET]\u001b[0m\u001b[33m     0B\u001b[0m\u001b[36;1m 6001246.zarr/\u001b[0m\r\n",
      "\u001b[0m\u001b[m\u001b[32m[2021-01-29 12:59:59 CET]\u001b[0m\u001b[33m     0B\u001b[0m\u001b[36;1m 6001247.zarr/\u001b[0m\r\n",
      "\u001b[0m\u001b[m\u001b[32m[2021-01-29 12:59:59 CET]\u001b[0m\u001b[33m     0B\u001b[0m\u001b[36;1m 6001248.zarr/\u001b[0m\r\n",
      "\u001b[0m\u001b[m\u001b[32m[2021-01-29 12:59:59 CET]\u001b[0m\u001b[33m     0B\u001b[0m\u001b[36;1m 6001249.zarr/\u001b[0m\r\n",
      "\u001b[0m\u001b[m\u001b[32m[2021-01-29 12:59:59 CET]\u001b[0m\u001b[33m     0B\u001b[0m\u001b[36;1m 6001250.zarr/\u001b[0m\r\n",
      "\u001b[0m\u001b[m\u001b[32m[2021-01-29 12:59:59 CET]\u001b[0m\u001b[33m     0B\u001b[0m\u001b[36;1m 6001251.zarr/\u001b[0m\r\n",
      "\u001b[0m\u001b[m\u001b[32m[2021-01-29 12:59:59 CET]\u001b[0m\u001b[33m     0B\u001b[0m\u001b[36;1m 6001252.zarr/\u001b[0m\r\n",
      "\u001b[0m\u001b[m\u001b[32m[2021-01-29 12:59:59 CET]\u001b[0m\u001b[33m     0B\u001b[0m\u001b[36;1m 6001253.zarr/\u001b[0m\r\n",
      "\u001b[0m\u001b[m\u001b[32m[2021-01-29 12:59:59 CET]\u001b[0m\u001b[33m     0B\u001b[0m\u001b[36;1m 6001254.zarr/\u001b[0m\r\n",
      "\u001b[0m\u001b[m\u001b[32m[2021-01-29 12:59:59 CET]\u001b[0m\u001b[33m     0B\u001b[0m\u001b[36;1m 6001255.zarr/\u001b[0m\r\n",
      "\u001b[0m\u001b[m\u001b[32m[2021-01-29 12:59:59 CET]\u001b[0m\u001b[33m     0B\u001b[0m\u001b[36;1m 6001256.zarr/\u001b[0m\r\n",
      "\u001b[0m\u001b[m\u001b[32m[2021-01-29 12:59:59 CET]\u001b[0m\u001b[33m     0B\u001b[0m\u001b[36;1m 6001257.zarr/\u001b[0m\r\n",
      "\u001b[0m\u001b[m\u001b[32m[2021-01-29 12:59:59 CET]\u001b[0m\u001b[33m     0B\u001b[0m\u001b[36;1m 6001258.zarr/\u001b[0m\r\n",
      "\u001b[0m"
     ]
    }
   ],
   "source": [
    "!mc ls gbi/bioim/idr0062-zarrs/"
   ]
  },
  {
   "cell_type": "code",
   "execution_count": 18,
   "metadata": {},
   "outputs": [
    {
     "name": "stdout",
     "output_type": "stream",
     "text": [
      "\u001b[m\u001b[32m[2021-01-28 10:22:33 CET]\u001b[0m\u001b[33m    44B\u001b[0m\u001b[1m README.txt\u001b[0m\r\n",
      "\u001b[0m\u001b[m\u001b[32m[2021-01-28 10:21:53 CET]\u001b[0m\u001b[33m 2.0MiB\u001b[0m\u001b[1m trans_norm.tif\u001b[0m\r\n",
      "\u001b[0m\u001b[m\u001b[32m[2021-01-29 13:00:27 CET]\u001b[0m\u001b[33m     0B\u001b[0m\u001b[36;1m trans_norm.ome.zarr/\u001b[0m\r\n",
      "\u001b[0m"
     ]
    }
   ],
   "source": [
    "!mc ls gbi/bioim/idr0023/"
   ]
  },
  {
   "cell_type": "markdown",
   "metadata": {},
   "source": [
    "## 2.3.4 Your first download"
   ]
  },
  {
   "cell_type": "markdown",
   "metadata": {},
   "source": [
    "Now you can see list the contents of the bucket and see that it's there. Note that since other people are working on the same bucket, it may look slightly different each time you run this command."
   ]
  },
  {
   "cell_type": "code",
   "execution_count": 22,
   "metadata": {
    "scrolled": true
   },
   "outputs": [
    {
     "name": "stdout",
     "output_type": "stream",
     "text": [
      "..._norm.tif:  2.04 MiB / 2.04 MiB  ▓▓▓▓▓▓▓▓▓▓▓▓▓▓▓▓▓▓▓▓▓▓▓▓▓▓▓  236.18 KiB/s 8s\u001b[0m\u001b[0m\u001b[m\u001b[32;1m\u001b[m\u001b[32;1m\u001b[m\u001b[32;1m\u001b[m\u001b[32;1m\u001b[m\u001b[32;1m\u001b[m\u001b[32;1m\u001b[m\u001b[32;1m\u001b[m\u001b[32;1m\u001b[m\u001b[32;1m\u001b[m\u001b[32;1m\u001b[m\u001b[32;1m\u001b[m\u001b[32;1m\u001b[m\u001b[32;1m\u001b[m\u001b[32;1m\u001b[m\u001b[32;1m\u001b[m\u001b[32;1m\u001b[m\u001b[32;1m\u001b[m\u001b[32;1m\u001b[m\u001b[32;1m\u001b[m\u001b[32;1m\u001b[m\u001b[32;1m\u001b[m\u001b[32;1m\u001b[m\u001b[32;1m\u001b[m\u001b[32;1m\u001b[m\u001b[32;1m\u001b[m\u001b[32;1m\u001b[m\u001b[32;1m\u001b[m\u001b[32;1m\u001b[m\u001b[32;1m\u001b[m\u001b[32;1m\u001b[m\u001b[32;1m\u001b[m\u001b[32;1m\u001b[m\u001b[32;1m\u001b[m\u001b[32;1m\u001b[m\u001b[32;1m\u001b[m\u001b[32;1m\u001b[m\u001b[32;1m\u001b[m\u001b[32;1m\u001b[m\u001b[32;1m\u001b[m\u001b[32;1m\u001b[m\u001b[32;1m\u001b[m\u001b[32;1m\u001b[m\u001b[32;1m\u001b[m\u001b[32;1m\u001b[m\u001b[32;1m\u001b[m\u001b[32;1m\u001b[m\u001b[32;1m\u001b[m\u001b[32;1m\u001b[m\u001b[32;1m\u001b[m\u001b[32;1m\u001b[m\u001b[32;1m\u001b[m\u001b[32;1m\u001b[m\u001b[32;1m\u001b[m\u001b[32;1m\u001b[m\u001b[32;1m\u001b[m\u001b[32;1m\u001b[m\u001b[32;1m\u001b[m\u001b[32;1m\u001b[m\u001b[32;1m\u001b[m\u001b[32;1m\u001b[m\u001b[32;1m\u001b[m\u001b[32;1m\u001b[m\u001b[32;1m\u001b[m\u001b[32;1m\u001b[m\u001b[32;1m\u001b[m\u001b[32;1m\u001b[m\u001b[32;1m\u001b[m\u001b[32;1m\u001b[m\u001b[32;1m\u001b[m\u001b[32;1m"
     ]
    }
   ],
   "source": [
    "!mc cp gbi/bioim/idr0023/trans_norm.tif julia.tif"
   ]
  },
  {
   "cell_type": "code",
   "execution_count": 20,
   "metadata": {
    "scrolled": true
   },
   "outputs": [
    {
     "name": "stdout",
     "output_type": "stream",
     "text": [
      "-rw-r--r--  1 jamoore  wheel   2.0M Jan 29 13:00 /tmp/trans_norm.tif\r\n"
     ]
    }
   ],
   "source": [
    "!ls -ltrah /tmp/trans_norm.tif"
   ]
  },
  {
   "cell_type": "markdown",
   "metadata": {
    "collapsed": true
   },
   "source": [
    "### License\n",
    "Copyright (C) 2021 University of Dundee. All Rights Reserved.\n",
    "This program is free software; you can redistribute it and/or modify it\n",
    "under the terms of the GNU General Public License as published by the\n",
    "Free Software Foundation; either version 2 of the License, or\n",
    "(at your option) any later version.\n",
    "This program is distributed in the hope that it will be useful, but\n",
    "WITHOUT ANY WARRANTY; without even the implied warranty of MERCHANTABILITY\n",
    "or FITNESS FOR A PARTICULAR PURPOSE. See the GNU General Public License for\n",
    "more details. You should have received a copy of the GNU General\n",
    "Public License along with this program; if not, write to the\n",
    "Free Software Foundation,\n",
    "Inc., 51 Franklin Street, Fifth Floor, Boston, MA 02110-1301 USA."
   ]
  }
 ],
 "metadata": {
  "anaconda-cloud": {},
  "kernelspec": {
   "display_name": "Python 3",
   "language": "python",
   "name": "python3"
  },
  "language_info": {
   "codemirror_mode": {
    "name": "ipython",
    "version": 3
   },
   "file_extension": ".py",
   "mimetype": "text/x-python",
   "name": "python",
   "nbconvert_exporter": "python",
   "pygments_lexer": "ipython3",
   "version": "3.9.0"
  },
  "toc": {
   "base_numbering": 1,
   "nav_menu": {},
   "number_sections": false,
   "sideBar": false,
   "skip_h1_title": false,
   "title_cell": "Table of Contents",
   "title_sidebar": "Contents",
   "toc_cell": false,
   "toc_position": {},
   "toc_section_display": false,
   "toc_window_display": false
  }
 },
 "nbformat": 4,
 "nbformat_minor": 4
}
