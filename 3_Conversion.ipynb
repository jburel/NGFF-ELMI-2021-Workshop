{
 "cells": [
  {
   "cell_type": "markdown",
   "metadata": {
    "slideshow": {
     "slide_type": "slide"
    }
   },
   "source": [
    "# 3. Converting data to OME-NGFF (practical)\n",
    "\n",
    "***\n",
    "\n",
    "**ELMI 2021 NGFF Workshop**, 25 June 2021\n",
    "\n",
    "***\n",
    "\n",
    "\n",
    "## Summary\n",
    "\n",
    "* 3.1. Data from IDR\n",
    "* 3.2. Converting your data to OME-NGFF\n",
    "* 3.3. Publishing your data with S3\n",
    "* 3.4. Extras (time-permitting)\n",
    "\n",
    "***"
   ]
  },
  {
   "cell_type": "markdown",
   "metadata": {
    "slideshow": {
     "slide_type": "slide"
    }
   },
   "source": [
    "## 3.1. Data from S3\n",
    "We're going to start off by looking at some images you will likely have seen during the OMERO or IDR sessions.\n",
    "\n",
    "**Our goal is to share these *without* using an OMERO.**\n",
    "\n",
    "<table>\n",
    "    <tr>\n",
    "        <td>\n",
    "            <img alt=\"idr0062 thumbnails\" src=\"images/training-1.png\" style=\"height:150px\"/>\n",
    "        </td>\n",
    "        <td>\n",
    "            <img alt=\"idr0062 thumbnails\" src=\"images/training-2.png\" style=\"height:150px\"/>\n",
    "        </td>\n",
    "        <td>\n",
    "            <img alt=\"idr0023 3D screenshot\" src=\"images/training-3.png\" style=\"height:150px\"/>\n",
    "        </td>\n",
    "    </tr>\n",
    "</table>\n",
    "    \n",
    "The left two images are from  the ilastik plugin guide presented by Petr: https://omero-guides.readthedocs.io/en/latest/ilastik/docs/ilastik_fiji.html\n",
    "\n",
    "They are available in the \"idr0062\" project on the workshop server: https://workshop.openmicroscopy.org/webclient/?show=project-1952\n",
    "\n",
    "The original dataset can be found in IDR study idr0062 by Blin _et al._: https://idr.openmicroscopy.org/webclient/?show=project-801\n",
    "\n",
    "The image on the right is from idr0023 by Szymborska _et al_: http://idr.openmicroscopy.org/webclient/?show=project-52 and is **much** smaller.\n"
   ]
  },
  {
   "cell_type": "markdown",
   "metadata": {},
   "source": [
    "***\n",
    "\n",
    "## 3.2 Converting your data to OME-NGFF\n",
    "\n",
    "The two basic commands are `bioformats2raw` and `raw2ometiff`. Together they provide a pipeline to scalably convert large images into OME-TIFF. The primary caveat is that they require **twice** the storage for the conversion.\n",
    "\n",
    "\n",
    "### 3.2.1 Conversion tools\n",
    "\n",
    "https://forum.image.sc/t/converting-whole-slide-images-to-ome-tiff-a-new-workflow/32110/4\n",
    "\n",
    "\n",
    "<img src=\"images/conversion.png\" style=\"height:400px\" />"
   ]
  },
  {
   "cell_type": "code",
   "execution_count": 1,
   "metadata": {},
   "outputs": [
    {
     "name": "stdout",
     "output_type": "stream",
     "text": [
      "Version = 0.3.0-rc4\r\n",
      "Bio-Formats version = 6.5.1\r\n"
     ]
    }
   ],
   "source": [
    "!bioformats2raw --version"
   ]
  },
  {
   "cell_type": "code",
   "execution_count": 2,
   "metadata": {},
   "outputs": [
    {
     "name": "stdout",
     "output_type": "stream",
     "text": [
      "Missing required parameters: <inputPath>, <outputPath>\n",
      "Usage: \u001b[1m<main class>\u001b[21m\u001b[0m [\u001b[33m-p\u001b[39m\u001b[0m] [\u001b[33m--no-hcs\u001b[39m\u001b[0m] [\u001b[33m--[no-]nested\u001b[39m\u001b[0m] [\u001b[33m--no-root-group\u001b[39m\u001b[0m]\n",
      "                    [\u001b[33m--overwrite\u001b[39m\u001b[0m] [\u001b[33m--version\u001b[39m\u001b[0m] [\u001b[33m--debug\u001b[39m\u001b[0m[=\u001b[3m<logLevel>\u001b[23m\u001b[0m]]\n",
      "                    [\u001b[33m--extra-readers\u001b[39m\u001b[0m[=\u001b[3m<extraReaders>\u001b[23m\u001b[0m[,\u001b[3m<extraReaders>\u001b[23m\u001b[0m...]]]...\n",
      "                    [\u001b[33m--options\u001b[39m\u001b[0m[=\u001b[3m<readerOptions>\u001b[23m\u001b[0m[,\u001b[3m<readerOptions>\u001b[23m\u001b[0m...]]]... [\u001b[33m-s\u001b[39m\u001b[0m\n",
      "                    [=\u001b[3m<seriesList>\u001b[23m\u001b[0m[,\u001b[3m<seriesList>\u001b[23m\u001b[0m...]]]...\n",
      "                    [\u001b[33m--additional-scale-format-string-args\u001b[39m\u001b[0m=\u001b[3m<additionalScaleForma\u001b[23m\u001b[0m\n",
      "\u001b[3m                    tStringArgsCsv>\u001b[23m\u001b[0m] [\u001b[33m-c\u001b[39m\u001b[0m=\u001b[3m<compressionType>\u001b[23m\u001b[0m]\n",
      "                    [\u001b[33m--dimension-order\u001b[39m\u001b[0m=\u001b[3m<dimensionOrder>\u001b[23m\u001b[0m]\n",
      "                    [\u001b[33m--downsample-type\u001b[39m\u001b[0m=\u001b[3m<downsampling>\u001b[23m\u001b[0m]\n",
      "                    [\u001b[33m--fill-value\u001b[39m\u001b[0m=\u001b[3m<fillValue>\u001b[23m\u001b[0m] [\u001b[33m-h\u001b[39m\u001b[0m=\u001b[3m<tileHeight>\u001b[23m\u001b[0m]\n",
      "                    [\u001b[33m--max_cached_tiles\u001b[39m\u001b[0m=\u001b[3m<maxCachedTiles>\u001b[23m\u001b[0m]\n",
      "                    [\u001b[33m--max_workers\u001b[39m\u001b[0m=\u001b[3m<maxWorkers>\u001b[23m\u001b[0m]\n",
      "                    [\u001b[33m--memo-directory\u001b[39m\u001b[0m=\u001b[3m<memoDirectory>\u001b[23m\u001b[0m]\n",
      "                    [\u001b[33m--pixel-type\u001b[39m\u001b[0m=\u001b[3m<outputPixelType>\u001b[23m\u001b[0m]\n",
      "                    [\u001b[33m--pyramid-name\u001b[39m\u001b[0m=\u001b[3m<pyramidName>\u001b[23m\u001b[0m] [\u001b[33m-r\u001b[39m\u001b[0m=\u001b[3m<pyramidResolutions>\u001b[23m\u001b[0m]\n",
      "                    [\u001b[33m--scale-format-string\u001b[39m\u001b[0m=\u001b[3m<scaleFormatString>\u001b[23m\u001b[0m]\n",
      "                    [\u001b[33m-w\u001b[39m\u001b[0m=\u001b[3m<tileWidth>\u001b[23m\u001b[0m]\n",
      "                    [\u001b[33m--compression-properties\u001b[39m\u001b[0m=\u001b[3m<String=Object>\u001b[23m\u001b[0m]... \u001b[33m<inputPath>\u001b[39m\u001b[0m\n",
      "                    \u001b[33m<outputPath>\u001b[39m\u001b[0m\n",
      "\u001b[33m \u001b[39m\u001b[0m     \u001b[33m<inputPath>\u001b[39m\u001b[0m       file to convert\n",
      "\u001b[33m \u001b[39m\u001b[0m     \u001b[33m<outputPath>\u001b[39m\u001b[0m      path to the output pyramid directory\n",
      "      \u001b[33m--additional-scal\u001b[39m\u001b[0m\u001b[33me-format-string-args\u001b[39m\u001b[0m=\u001b[3m<additionalScaleFormatStringArgsCsv>\u001b[23m\u001b[0m\n",
      "                        Additional format string argument CSV file (without\n",
      "                          header row).  Arguments will be added to the end of\n",
      "                          the scale format string mapping the at the\n",
      "                          corresponding CSV row index.  It is expected that the\n",
      "                          CSV file contain exactly the same number of rows as\n",
      "                          the input file has series\n",
      "  \u001b[33m-c\u001b[39m\u001b[0m, \u001b[33m--compression\u001b[39m\u001b[0m=\u001b[3m<co\u001b[23m\u001b[0m\u001b[3mmpressionType>\u001b[23m\u001b[0m\n",
      "                        Compression type for Zarr (null, zlib, blosc; default:\n",
      "                          blosc)\n",
      "      \u001b[33m--compression-pro\u001b[39m\u001b[0m\u001b[33mperties\u001b[39m\u001b[0m=\u001b[3m<String=Object>\u001b[23m\u001b[0m\n",
      "                        Properties for the chosen compression (see https:\n",
      "                          //jzarr.readthedocs.io/en/latest/tutorial.\n",
      "                          html#compressors )\n",
      "      \u001b[33m--debug, --log-le\u001b[39m\u001b[0m\u001b[33mvel\u001b[39m\u001b[0m[=\u001b[3m<logLevel>\u001b[23m\u001b[0m]\n",
      "                        Change logging level; valid values are OFF, ERROR,\n",
      "                          WARN, INFO, DEBUG, TRACE and ALL. (default: WARN)\n",
      "      \u001b[33m--dimension-order\u001b[39m\u001b[0m=\u001b[3m<dimensionOrder>\u001b[23m\u001b[0m\n",
      "                        Override the input file dimension order in the output\n",
      "                          file [Can break compatibility with raw2ometiff]\n",
      "                          (XYZCT, XYZTC, XYCTZ, XYCZT, XYTCZ, XYTZC)\n",
      "      \u001b[33m--downsample-type\u001b[39m\u001b[0m=\u001b[3m<downsampling>\u001b[23m\u001b[0m\n",
      "                        Tile downsampling algorithm (SIMPLE, GAUSSIAN, AREA,\n",
      "                          LINEAR, CUBIC, LANCZOS)\n",
      "      \u001b[33m--extra-readers\u001b[39m\u001b[0m[=\u001b[3m<extraReaders>\u001b[23m\u001b[0m[,\u001b[3m<extraReaders>\u001b[23m\u001b[0m...]]\n",
      "                        Separate set of readers to include; (default: [class\n",
      "                          com.glencoesoftware.bioformats2raw.PyramidTiffReader,\n",
      "                          class com.glencoesoftware.bioformats2raw.MiraxReader])\n",
      "      \u001b[33m--fill-value\u001b[39m\u001b[0m=\u001b[3m<fil\u001b[23m\u001b[0m\u001b[3mlValue>\u001b[23m\u001b[0m\n",
      "                        Default value to fill in for missing tiles (0-255)\n",
      "                          (currently .mrxs only)\n",
      "  \u001b[33m-h\u001b[39m\u001b[0m, \u001b[33m--tile_height\u001b[39m\u001b[0m=\u001b[3m<ti\u001b[23m\u001b[0m\u001b[3mleHeight>\u001b[23m\u001b[0m\n",
      "                        Maximum tile height to read (default: 1024)\n",
      "      \u001b[33m--max_cached_tile\u001b[39m\u001b[0m\u001b[33ms\u001b[39m\u001b[0m=\u001b[3m<maxCachedTiles>\u001b[23m\u001b[0m\n",
      "                        Maximum number of tiles that will be cached across all\n",
      "                          workers (default: 64)\n",
      "      \u001b[33m--max_workers\u001b[39m\u001b[0m=\u001b[3m<ma\u001b[23m\u001b[0m\u001b[3mxWorkers>\u001b[23m\u001b[0m\n",
      "                        Maximum number of workers (default: 4)\n",
      "      \u001b[33m--memo-directory\u001b[39m\u001b[0m=\u001b[3m<memoDirectory>\u001b[23m\u001b[0m\n",
      "                        Directory used to store .bfmemo cache files\n",
      "      \u001b[33m--no-hcs\u001b[39m\u001b[0m          Turn off HCS writing\n",
      "      \u001b[33m--[no-]nested\u001b[39m\u001b[0m     Whether to use '/' as the chunk path seprator (true by\n",
      "                          default)\n",
      "      \u001b[33m--no-root-group\u001b[39m\u001b[0m   Turn off creation of root group and corresponding\n",
      "                          metadata [Will break compatibility with raw2ometiff]\n",
      "      \u001b[33m--options\u001b[39m\u001b[0m[=\u001b[3m<reade\u001b[23m\u001b[0m\u001b[3mrOptions>\u001b[23m\u001b[0m[,\u001b[3m<readerOptions>\u001b[23m\u001b[0m...]]\n",
      "                        Reader-specific options, in format key=value[,\n",
      "                          key2=value2]\n",
      "      \u001b[33m--overwrite\u001b[39m\u001b[0m       Overwrite the output directory if it exists\n",
      "      \u001b[33m--pixel-type\u001b[39m\u001b[0m=\u001b[3m<out\u001b[23m\u001b[0m\u001b[3mputPixelType>\u001b[23m\u001b[0m\n",
      "                        Pixel type to write if input data is  float or double\n",
      "                          (int8, int16, int32, uint8, uint16, uint32, float,\n",
      "                          double, complex, double-complex, bit)\n",
      "      \u001b[33m--pyramid-name\u001b[39m\u001b[0m=\u001b[3m<p\u001b[23m\u001b[0m\u001b[3myramidName>\u001b[23m\u001b[0m\n",
      "                        Name of pyramid (default: null) [Can break\n",
      "                          compatibility with raw2ometiff]\n",
      "  \u001b[33m-r\u001b[39m\u001b[0m, \u001b[33m--resolutions\u001b[39m\u001b[0m=\u001b[3m<py\u001b[23m\u001b[0m\u001b[3mramidResolutions>\u001b[23m\u001b[0m\n",
      "                        Number of pyramid resolutions to generate\n",
      "  \u001b[33m-s\u001b[39m\u001b[0m, \u001b[33m--series\u001b[39m\u001b[0m[=\u001b[3m<series\u001b[23m\u001b[0m\u001b[3mList>\u001b[23m\u001b[0m[,\u001b[3m<seriesList>\u001b[23m\u001b[0m...]]\n",
      "                        Comma-separated list of series indexes to convert\n",
      "      \u001b[33m--scale-format-st\u001b[39m\u001b[0m\u001b[33mring\u001b[39m\u001b[0m=\u001b[3m<scaleFormatString>\u001b[23m\u001b[0m\n",
      "                        Format string for scale paths; the first two arguments\n",
      "                          will always be series and resolution followed by any\n",
      "                          additional arguments brought in from\n",
      "                          `--additional-scale-format-string-args` [Can break\n",
      "                          compatibility with raw2ometiff] (default: %d/%d)\n",
      "  \u001b[33m-w\u001b[39m\u001b[0m, \u001b[33m--tile_width\u001b[39m\u001b[0m=\u001b[3m<til\u001b[23m\u001b[0m\u001b[3meWidth>\u001b[23m\u001b[0m\n",
      "                        Maximum tile width to read (default: 1024)\n",
      "  \u001b[33m-p\u001b[39m\u001b[0m, \u001b[33m--progress\u001b[39m\u001b[0m        Print progress bars during conversion\n",
      "      \u001b[33m--version\u001b[39m\u001b[0m         Print version information and exit\n"
     ]
    }
   ],
   "source": [
    "!bioformats2raw"
   ]
  },
  {
   "cell_type": "code",
   "execution_count": 8,
   "metadata": {},
   "outputs": [
    {
     "name": "stdout",
     "output_type": "stream",
     "text": [
      "openjdk 11.0.9.1 2020-11-04 LTS\r\n",
      "OpenJDK Runtime Environment Zulu11.43+55-CA (build 11.0.9.1+1-LTS)\r\n",
      "OpenJDK 64-Bit Server VM Zulu11.43+55-CA (build 11.0.9.1+1-LTS, mixed mode)\r\n"
     ]
    }
   ],
   "source": [
    "!java --version"
   ]
  },
  {
   "cell_type": "code",
   "execution_count": 35,
   "metadata": {},
   "outputs": [],
   "source": [
    "import os\n",
    "os.environ[\"JAVA_OPTS\"]=\"--illegal-access=deny\""
   ]
  },
  {
   "cell_type": "code",
   "execution_count": 37,
   "metadata": {
    "scrolled": true
   },
   "outputs": [
    {
     "name": "stdout",
     "output_type": "stream",
     "text": [
      "2021-06-23 14:31:54,862 [main] WARN  c.g.bioformats2raw.Converter - Overwriting output path trans_norm.ome.zarr\n",
      "CPU times: user 42.9 ms, sys: 18.3 ms, total: 61.2 ms\n",
      "Wall time: 3.19 s\n"
     ]
    }
   ],
   "source": [
    "%%time\n",
    "!bioformats2raw --overwrite trans_norm.tif trans_norm.ome.zarr"
   ]
  },
  {
   "cell_type": "code",
   "execution_count": 38,
   "metadata": {},
   "outputs": [
    {
     "name": "stdout",
     "output_type": "stream",
     "text": [
      "trans_norm.ome.zarr/.zattrs\r\n",
      "trans_norm.ome.zarr/.zgroup\r\n",
      "trans_norm.ome.zarr/0/.zattrs\r\n",
      "trans_norm.ome.zarr/0/.zgroup\r\n",
      "trans_norm.ome.zarr/0/0/.zarray\r\n"
     ]
    }
   ],
   "source": [
    "!find trans_norm.ome.zarr -name \".z*\""
   ]
  },
  {
   "cell_type": "code",
   "execution_count": 40,
   "metadata": {
    "scrolled": true
   },
   "outputs": [
    {
     "name": "stdout",
     "output_type": "stream",
     "text": [
      "-rw-r--r--  1 jamoore  wheel   1.2K Jun 23 14:31 trans_norm.ome.zarr/0/0/0/0/0/0/0\r\n"
     ]
    }
   ],
   "source": [
    "!ls -ltrah trans_norm.ome.zarr/0/0/0/0/0/0/0"
   ]
  },
  {
   "cell_type": "code",
   "execution_count": 41,
   "metadata": {},
   "outputs": [
    {
     "name": "stdout",
     "output_type": "stream",
     "text": [
      "/opt/NGFF-ELMI-2021-Workshop/trans_norm.ome.zarr/0 [zgroup]\r\n",
      " - metadata\r\n",
      "   - Multiscales\r\n",
      " - data\r\n",
      "   - (1, 1, 571, 30, 30)\r\n"
     ]
    }
   ],
   "source": [
    "!ome_zarr info trans_norm.ome.zarr/0"
   ]
  },
  {
   "cell_type": "markdown",
   "metadata": {},
   "source": [
    "***\n",
    "\n",
    "## 3.3. Publishing your data with S3\n",
    "\n",
    "You can then move the generated output to S3. Note: one of the most frequent mistakes here is the slash (`/`) at the end of the commands.x"
   ]
  },
  {
   "cell_type": "code",
   "execution_count": 42,
   "metadata": {},
   "outputs": [
    {
     "name": "stdout",
     "output_type": "stream",
     "text": [
      "josh\n"
     ]
    }
   ],
   "source": [
    "YOURNAME = input()"
   ]
  },
  {
   "cell_type": "code",
   "execution_count": 43,
   "metadata": {
    "scrolled": true
   },
   "outputs": [
    {
     "name": "stdout",
     "output_type": "stream",
     "text": [
      ".../0/99/0/0:  773.27 KiB / 773.27 KiB  ▓▓▓▓▓▓▓▓▓▓▓▓▓▓▓▓▓▓▓▓▓▓▓  23.94 KiB/s 32s\u001b[0m\u001b[0m\u001b[m\u001b[32;1m\u001b[m\u001b[32;1m\u001b[m\u001b[32;1m\u001b[m\u001b[32;1m\u001b[m\u001b[32;1m\u001b[m\u001b[32;1m\u001b[m\u001b[32;1m\u001b[m\u001b[32;1m\u001b[m\u001b[32;1m\u001b[m\u001b[32;1m\u001b[m\u001b[32;1m\u001b[m\u001b[32;1m\u001b[m\u001b[32;1m\u001b[m\u001b[32;1m\u001b[m\u001b[32;1m\u001b[m\u001b[32;1m\u001b[m\u001b[32;1m\u001b[m\u001b[32;1m\u001b[m\u001b[32;1m\u001b[m\u001b[32;1m\u001b[m\u001b[32;1m\u001b[m\u001b[32;1m\u001b[m\u001b[32;1m\u001b[m\u001b[32;1m\u001b[m\u001b[32;1m\u001b[m\u001b[32;1m\u001b[m\u001b[32;1m\u001b[m\u001b[32;1m\u001b[m\u001b[32;1m\u001b[m\u001b[32;1m\u001b[m\u001b[32;1m\u001b[m\u001b[32;1m\u001b[m\u001b[32;1m\u001b[m\u001b[32;1m\u001b[m\u001b[32;1m\u001b[m\u001b[32;1m\u001b[m\u001b[32;1m\u001b[m\u001b[32;1m\u001b[m\u001b[32;1m\u001b[m\u001b[32;1m\u001b[m\u001b[32;1m\u001b[m\u001b[32;1m\u001b[m\u001b[32;1m\u001b[m\u001b[32;1m\u001b[m\u001b[32;1m\u001b[m\u001b[32;1m\u001b[m\u001b[32;1m\u001b[m\u001b[32;1m\u001b[m\u001b[32;1m\u001b[m\u001b[32;1m\u001b[m\u001b[32;1m\u001b[m\u001b[32;1m\u001b[m\u001b[32;1m\u001b[m\u001b[32;1m\u001b[m\u001b[32;1m\u001b[m\u001b[32;1m\u001b[m\u001b[32;1m\u001b[m\u001b[32;1m\u001b[m\u001b[32;1m\u001b[m\u001b[32;1m\u001b[m\u001b[32;1m\u001b[m\u001b[32;1m\u001b[m\u001b[32;1m\u001b[m\u001b[32;1m\u001b[m\u001b[32;1m\u001b[m\u001b[32;1m\u001b[m\u001b[32;1m\u001b[m\u001b[32;1m\u001b[m\u001b[32;1m\u001b[m\u001b[32;1m\u001b[m\u001b[32;1m\u001b[m\u001b[32;1m\u001b[m\u001b[32;1m\u001b[m\u001b[32;1m\u001b[m\u001b[32;1m\u001b[m\u001b[32;1m\u001b[m\u001b[32;1m\u001b[m\u001b[32;1m\u001b[m\u001b[32;1m\u001b[m\u001b[32;1m\u001b[m\u001b[32;1m\u001b[m\u001b[32;1m\u001b[m\u001b[32;1m\u001b[m\u001b[32;1m\u001b[m\u001b[32;1m\u001b[m\u001b[32;1m\u001b[m\u001b[32;1m\u001b[m\u001b[32;1m\u001b[m\u001b[32;1m\u001b[m\u001b[32;1m\u001b[m\u001b[32;1m\u001b[m\u001b[32;1m\u001b[m\u001b[32;1m\u001b[m\u001b[32;1m\u001b[m\u001b[32;1m\u001b[m\u001b[32;1m\u001b[m\u001b[32;1m\u001b[m\u001b[32;1m\u001b[m\u001b[32;1m\u001b[m\u001b[32;1m\u001b[m\u001b[32;1m\u001b[m\u001b[32;1m\u001b[m\u001b[32;1m\u001b[m\u001b[32;1m\u001b[m\u001b[32;1m\u001b[m\u001b[32;1m\u001b[m\u001b[32;1m\u001b[m\u001b[32;1m\u001b[m\u001b[32;1m\u001b[m\u001b[32;1m\u001b[m\u001b[32;1m\u001b[m\u001b[32;1m\u001b[m\u001b[32;1m\u001b[m\u001b[32;1m\u001b[m\u001b[32;1m\u001b[m\u001b[32;1m\u001b[m\u001b[32;1m\u001b[m\u001b[32;1m\u001b[m\u001b[32;1m\u001b[m\u001b[32;1m\u001b[m\u001b[32;1m\u001b[m\u001b[32;1m\u001b[m\u001b[32;1m\u001b[m\u001b[32;1m\u001b[m\u001b[32;1m\u001b[m\u001b[32;1m\u001b[m\u001b[32;1m\u001b[m\u001b[32;1m\u001b[m\u001b[32;1m\u001b[m\u001b[32;1m\u001b[m\u001b[32;1m\u001b[m\u001b[32;1m\u001b[m\u001b[32;1m\u001b[m\u001b[32;1m\u001b[m\u001b[32;1m\u001b[m\u001b[32;1m\u001b[m\u001b[32;1m\u001b[m\u001b[32;1m\u001b[m\u001b[32;1m\u001b[m\u001b[32;1m\u001b[m\u001b[32;1m\u001b[m\u001b[32;1m\u001b[m\u001b[32;1m\u001b[m\u001b[32;1m\u001b[m\u001b[32;1m\u001b[m\u001b[32;1m\u001b[m\u001b[32;1m\u001b[m\u001b[32;1m\u001b[m\u001b[32;1m\u001b[m\u001b[32;1m\u001b[m\u001b[32;1m\u001b[m\u001b[32;1m\u001b[m\u001b[32;1m\u001b[m\u001b[32;1m\u001b[m\u001b[32;1m\u001b[m\u001b[32;1m\u001b[m\u001b[32;1m\u001b[m\u001b[32;1m\u001b[m\u001b[32;1m\u001b[m\u001b[32;1m\u001b[m\u001b[32;1m\u001b[m\u001b[32;1m\u001b[m\u001b[32;1m\u001b[m\u001b[32;1m\u001b[m\u001b[32;1m\u001b[m\u001b[32;1m\u001b[m\u001b[32;1m\u001b[m\u001b[32;1m\u001b[m\u001b[32;1m\u001b[m\u001b[32;1m\u001b[m\u001b[32;1m\u001b[m\u001b[32;1m\u001b[m\u001b[32;1m\u001b[m\u001b[32;1m\u001b[m\u001b[32;1m\u001b[m\u001b[32;1m\u001b[m\u001b[32;1m\u001b[m\u001b[32;1m\u001b[m\u001b[32;1m\u001b[m\u001b[32;1m\u001b[m\u001b[32;1m\u001b[m\u001b[32;1m\u001b[m\u001b[32;1m\u001b[m\u001b[32;1m\u001b[m\u001b[32;1m\u001b[m\u001b[32;1m\u001b[m\u001b[32;1m\u001b[m\u001b[32;1m\u001b[m\u001b[32;1m\u001b[m\u001b[32;1m\u001b[m\u001b[32;1m\u001b[m\u001b[32;1m\u001b[m\u001b[32;1m\u001b[m\u001b[32;1m\u001b[m\u001b[32;1m\u001b[m\u001b[32;1m\u001b[m\u001b[32;1m\u001b[m\u001b[32;1m\u001b[m\u001b[32;1m\u001b[m\u001b[32;1m\u001b[m\u001b[32;1m\u001b[m\u001b[32;1m\u001b[m\u001b[32;1m\u001b[m\u001b[32;1m\u001b[m\u001b[32;1m\u001b[m\u001b[32;1m\u001b[m\u001b[32;1m\u001b[m\u001b[32;1m\u001b[m\u001b[32;1m\u001b[m\u001b[32;1m\u001b[m\u001b[32;1m\u001b[m\u001b[32;1m\u001b[m\u001b[32;1m\u001b[m\u001b[32;1m\u001b[m\u001b[32;1m\u001b[m\u001b[32;1m\u001b[m\u001b[32;1m\u001b[m\u001b[32;1m\u001b[m\u001b[32;1m\u001b[m\u001b[32;1m\u001b[m\u001b[32;1m\u001b[m\u001b[32;1m\u001b[m\u001b[32;1m\u001b[m\u001b[32;1m\u001b[m\u001b[32;1m\u001b[m\u001b[32;1m\u001b[m\u001b[32;1m\u001b[m\u001b[32;1m\u001b[m\u001b[32;1m\u001b[m\u001b[32;1m\u001b[m\u001b[32;1m\u001b[m\u001b[32;1m\u001b[m\u001b[32;1m\u001b[m\u001b[32;1m\u001b[m\u001b[32;1m\u001b[m\u001b[32;1m\u001b[m\u001b[32;1m\u001b[m\u001b[32;1m\u001b[m\u001b[32;1m\u001b[m\u001b[32;1m\u001b[m\u001b[32;1m\u001b[m\u001b[32;1m\u001b[m\u001b[32;1m\u001b[m\u001b[32;1m\u001b[m\u001b[32;1m\u001b[m\u001b[32;1m\u001b[m\u001b[32;1m\u001b[m\u001b[32;1m\u001b[m\u001b[32;1m\u001b[m\u001b[32;1m\u001b[m\u001b[32;1m\u001b[m\u001b[32;1m\u001b[m\u001b[32;1m\n",
      "real\t0m34.290s\n",
      "user\t0m0.697s\n",
      "sys\t0m0.577s\n"
     ]
    }
   ],
   "source": [
    "!time mc cp --recursive trans_norm.ome.zarr/0/ elmi2021/idr-upload/elmi2021/$YOURNAME/my_trans_norm.ome.zarr/"
   ]
  },
  {
   "cell_type": "code",
   "execution_count": 45,
   "metadata": {},
   "outputs": [
    {
     "name": "stdout",
     "output_type": "stream",
     "text": [
      "{\r\n",
      "  \"multiscales\" : [\r\n",
      "    {\r\n",
      "      \"metadata\" : {\r\n",
      "        \"method\" : \"loci.common.image.SimpleImageScaler\",\r\n",
      "        \"version\" : \"Bio-Formats 6.5.1\"\r\n",
      "      },\r\n",
      "      \"datasets\" : [\r\n",
      "        {\r\n",
      "          \"path\" : \"0\"\r\n",
      "        }\r\n",
      "      ],\r\n",
      "      \"version\" : \"0.2\"\r\n",
      "    }\r\n",
      "  ]\r\n",
      "}"
     ]
    }
   ],
   "source": [
    "!mc cat elmi2021/idr-upload/elmi2021/$YOURNAME/my_trans_norm.ome.zarr/.zattrs"
   ]
  },
  {
   "cell_type": "code",
   "execution_count": 62,
   "metadata": {},
   "outputs": [
    {
     "name": "stdout",
     "output_type": "stream",
     "text": [
      "········\n",
      "DEBUG:s3fs:Setting up s3fs instance\n",
      "DEBUG:s3fs:CALL: head_object - ({},) - {'Bucket': 'idr-upload', 'Key': 'elmi2021/josh/my_trans_norm.ome.zarr'}\n",
      "DEBUG:s3fs:Get directory listing page for idr-upload/elmi2021/josh\n",
      "DEBUG:s3fs:CALL: head_object - ({},) - {'Bucket': 'idr-upload', 'Key': 'elmi2021/josh/my_trans_norm.ome.zarr/.zarray'}\n",
      "DEBUG:s3fs:Get directory listing page for idr-upload/elmi2021/josh/my_trans_norm.ome.zarr\n",
      "DEBUG:s3fs:Get directory listing page for idr-upload/elmi2021/josh/my_trans_norm.ome.zarr/.zarray\n",
      "DEBUG:s3fs:Fetch: idr-upload/elmi2021/josh/my_trans_norm.ome.zarr/.zgroup, 0-23\n",
      "DEBUG:s3fs:Fetch: idr-upload/elmi2021/josh/my_trans_norm.ome.zarr/.zattrs, 0-264\n",
      "DEBUG:s3fs:CALL: head_object - ({},) - {'Bucket': 'idr-upload', 'Key': 'elmi2021/josh/my_trans_norm.ome.zarr/0/.zarray'}\n",
      "DEBUG:s3fs:Fetch: idr-upload/elmi2021/josh/my_trans_norm.ome.zarr/0/.zarray, 0-365\n",
      "s3://idr-upload/elmi2021/josh/my_trans_norm.ome.zarr/ [zgroup]\n",
      " - metadata\n",
      "   - Multiscales\n",
      " - data\n",
      "   - (1, 1, 571, 30, 30)\n"
     ]
    }
   ],
   "source": [
    "import getpass\n",
    "import os\n",
    "\n",
    "os.environ[\"FSSPEC_CONFIG_DIR\"] = \"/tmp\"\n",
    "os.environ[\"AWS_ACCESS_KEY_ID\"] = \"elmi2021\"\n",
    "os.environ[\"AWS_SECRET_ACCESS_KEY\"] = getpass.getpass()\n",
    "with open(\"/tmp/conf.json\", \"w\") as o:\n",
    "    o.write(\"\"\"\n",
    "    {\"s3\":\n",
    "        {\"client_kwargs\":\n",
    "          {\"endpoint_url\": \"https://idr-ftp.openmicroscopy.org\"}\n",
    "        }\n",
    "    }\"\"\")\n",
    "\n",
    "!ome_zarr -qqq info s3://idr-upload/elmi2021/josh/my_trans_norm.ome.zarr/"
   ]
  },
  {
   "cell_type": "code",
   "execution_count": 66,
   "metadata": {},
   "outputs": [
    {
     "data": {
      "text/html": [
       "<video src=\"images/idr0023.mp4\" controls  >\n",
       "      Your browser does not support the <code>video</code> element.\n",
       "    </video>"
      ],
      "text/plain": [
       "<IPython.core.display.Video object>"
      ]
     },
     "execution_count": 66,
     "metadata": {},
     "output_type": "execute_result"
    }
   ],
   "source": [
    "from IPython.display import Video\n",
    "Video(\"images/idr0023.mp4\")"
   ]
  },
  {
   "cell_type": "markdown",
   "metadata": {},
   "source": [
    "# 3.4 Extras\n",
    "\n",
    "## 3.4.1 Renaming\n",
    "\n",
    "Another important distinction to filesystems is that though it looks like hello is in a directory, you should really think of the entire string after the bucket just as a \"key\"."
   ]
  },
  {
   "cell_type": "code",
   "execution_count": 67,
   "metadata": {
    "scrolled": true
   },
   "outputs": [
    {
     "name": "stdout",
     "output_type": "stream",
     "text": [
      "\u001b[31;3;1mmc: <ERROR> \u001b[0m\u001b[31;3;1mUnable to get bucket lock configuration of `elmi2021/idr-upload/elmi2021/josh/my_trans_norm.ome.zarr/`. Access Denied.\r\n",
      "\u001b[0m"
     ]
    }
   ],
   "source": [
    "!mc mv --recursive elmi2021/idr-upload/elmi2021/$YOURNAME/my_trans_norm.ome.zarr/ elmi2021/idr-upload/elmi2021/$YOURNAME/public_trans_norm.ome.zarr"
   ]
  },
  {
   "cell_type": "markdown",
   "metadata": {},
   "source": [
    "## 3.4.2 omero-cli-zarr"
   ]
  },
  {
   "cell_type": "markdown",
   "metadata": {},
   "source": [
    "Loading the image from: https://workshop.openmicroscopy.org/webclient/img_detail/55500/?dataset=6210"
   ]
  },
  {
   "cell_type": "code",
   "execution_count": 25,
   "metadata": {},
   "outputs": [
    {
     "name": "stdout",
     "output_type": "stream",
     "text": [
      "········\n"
     ]
    }
   ],
   "source": [
    "# Another block to get your workshop password from day 1\n",
    "import getpass\n",
    "workshop_pass = getpass.getpass()"
   ]
  },
  {
   "cell_type": "code",
   "execution_count": 26,
   "metadata": {},
   "outputs": [
    {
     "name": "stdout",
     "output_type": "stream",
     "text": [
      "Previous session expired for trainer-1 on wss://workshop.openmicroscopy.org/omero-ws:4064\n",
      "Created session for trainer-1@wss://workshop.openmicroscopy.org/omero-ws:443. Idle timeout: 10 min. Current group: Lab1\n"
     ]
    }
   ],
   "source": [
    "!omero login trainer-1@wss://workshop.openmicroscopy.org/omero-ws -w $workshop_pass"
   ]
  },
  {
   "cell_type": "code",
   "execution_count": 27,
   "metadata": {},
   "outputs": [
    {
     "name": "stdout",
     "output_type": "stream",
     "text": [
      "Using session for trainer-1@wss://workshop.openmicroscopy.org/omero-ws:443. Idle timeout: 10 min. Current group: Lab1\n",
      "Exporting to 55500.zarr\n",
      "Finished.\n",
      "\n",
      "real\t2m12.037s\n",
      "user\t0m5.787s\n",
      "sys\t0m1.844s\n"
     ]
    }
   ],
   "source": [
    "!time omero zarr export Image:55500"
   ]
  },
  {
   "cell_type": "code",
   "execution_count": 28,
   "metadata": {
    "scrolled": false
   },
   "outputs": [
    {
     "name": "stdout",
     "output_type": "stream",
     "text": [
      "55500.zarr/.zattrs\r\n",
      "55500.zarr/.zgroup\r\n",
      "55500.zarr/0/.zarray\r\n",
      "55500.zarr/1/.zarray\r\n",
      "55500.zarr/2/.zarray\r\n"
     ]
    }
   ],
   "source": [
    "!find 55500.zarr -name \".z*\""
   ]
  },
  {
   "cell_type": "markdown",
   "metadata": {},
   "source": [
    "## 3.4.3 Other resources\n",
    "\n",
    "<table>\n",
    "    <tr>\n",
    "        <td>\n",
    "            <a href=\"https://downloads.openmicroscopy.org/presentations/2020/Dundee/Workshops/NGFF/zarr_diagram/\">\n",
    "<img src=\"images/resources-1.png\" alt=\"Screenshot of the Zarr diagram from OME2020\" style=\"height:200px\"/>\n",
    "            </a>\n",
    "        </td>\n",
    "        <td>\n",
    "<a href=\"https://downloads.openmicroscopy.org/presentations/2020/Dundee/Workshops/NGFF/zarr_diagram/\">Diagram for how data moves</a>\n",
    "        </td>\n",
    "    </tr>\n",
    "    <tr>\n",
    "        <td>\n",
    "      <a href=\"https://blog.openmicroscopy.org/file-formats/community/2020/11/04/zarr-data/\">      \n",
    "<img src=\"images/resources-2.png\" alt=\"Screenshot of the Zarr diagram from OME2020\" style=\"height:200px\"/>\n",
    "            </a>\n",
    "        </td>\n",
    "        <td>\n",
    "<a href=\"https://blog.openmicroscopy.org/file-formats/community/2020/11/04/zarr-data/\">Blog post for an easy way to publish OME-Zarr files</a>\n",
    "        </td>\n",
    "    </tr>\n",
    "</table>    "
   ]
  },
  {
   "cell_type": "markdown",
   "metadata": {
    "collapsed": true
   },
   "source": [
    "### License (BSD 2-Clause)\n",
    "\n",
    "Copyright (c) 2021, University of Dundee All rights reserved.\n",
    "\n",
    "Redistribution and use in source and binary forms, with or without modification, are permitted provided that the following conditions are met:\n",
    "\n",
    "Redistributions of source code must retain the above copyright notice, this list of conditions and the following disclaimer.\n",
    "Redistributions in binary form must reproduce the above copyright notice, this list of conditions and the following disclaimer in the documentation and/or other materials provided with the distribution.\n",
    "THIS SOFTWARE IS PROVIDED BY THE COPYRIGHT HOLDERS AND CONTRIBUTORS \"AS IS\" AND ANY EXPRESS OR IMPLIED WARRANTIES, INCLUDING, BUT NOT LIMITED TO, THE IMPLIED WARRANTIES OF MERCHANTABILITY AND FITNESS FOR A PARTICULAR PURPOSE ARE DISCLAIMED. IN NO EVENT SHALL THE COPYRIGHT OWNER OR CONTRIBUTORS BE LIABLE FOR ANY DIRECT, INDIRECT, INCIDENTAL, SPECIAL, EXEMPLARY, OR CONSEQUENTIAL DAMAGES (INCLUDING, BUT NOT LIMITED TO, PROCUREMENT OF SUBSTITUTE GOODS OR SERVICES; LOSS OF USE, DATA, OR PROFITS; OR BUSINESS INTERRUPTION) HOWEVER CAUSED AND ON ANY THEORY OF LIABILITY, WHETHER IN CONTRACT, STRICT LIABILITY, OR TORT (INCLUDING NEGLIGENCE OR OTHERWISE) ARISING IN ANY WAY OUT OF THE USE OF THIS SOFTWARE, EVEN IF ADVISED OF THE POSSIBILITY OF SUCH DAMAGE."
   ]
  }
 ],
 "metadata": {
  "anaconda-cloud": {},
  "kernelspec": {
   "display_name": "Python 3",
   "language": "python",
   "name": "python3"
  },
  "language_info": {
   "codemirror_mode": {
    "name": "ipython",
    "version": 3
   },
   "file_extension": ".py",
   "mimetype": "text/x-python",
   "name": "python",
   "nbconvert_exporter": "python",
   "pygments_lexer": "ipython3",
   "version": "3.9.0"
  },
  "toc": {
   "base_numbering": 1,
   "nav_menu": {},
   "number_sections": false,
   "sideBar": false,
   "skip_h1_title": false,
   "title_cell": "Table of Contents",
   "title_sidebar": "Contents",
   "toc_cell": false,
   "toc_position": {},
   "toc_section_display": false,
   "toc_window_display": false
  }
 },
 "nbformat": 4,
 "nbformat_minor": 4
}
