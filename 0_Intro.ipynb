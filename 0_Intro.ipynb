{
 "cells": [
  {
   "cell_type": "markdown",
   "id": "dffa8906",
   "metadata": {},
   "source": [
    "#  Next-Generation File Formats (NGFF)\n",
    "## ELMI 2021 Workshop\n",
    "\n",
    "\n",
    "The presentation and a PDF version of the workshop are available at:\n",
    "\n",
    "https://downloads.openmicroscopy.org/presentations/2021/ELMI\n",
    "\n",
    "\n",
    "## Outline\n",
    "\n",
    " 0. Some basics (this notebook)\n",
    " 1. [Benefits of NGFFs to you](1_Viewing.ipynb)\n",
    " 2. [What is the \"Cloud\"?](2_Minio.ipynb)\n",
    " 3. [Getting started with data publishing](3_Conversion.ipynb)\n",
    " 4. [Advanced usage: analysis](4_Analysis.ipynb)\n",
    " \n",
    "<!--\n",
    "## ELMI Poster\n",
    "\n",
    "<img src=\"images/poster.png\" title=\"Screenshot of poster\" width=\"400px\"/>\n",
    "\n",
    "Figshare URL\n",
    "\n",
    "## Poster Diagram\n",
    "\n",
    "![Digram from poster](images/diagram.png)\n",
    "-->"
   ]
  },
  {
   "cell_type": "markdown",
   "id": "37be011c",
   "metadata": {},
   "source": [
    "## 0.1 Software versions used for this workshop:\n",
    "\n",
    "\n",
    "### 0.1.1 Running now\n",
    "\n",
    "* jupyter                   1.0.0 ([external guide](https://jupyter-notebook-beginner-guide.readthedocs.io/en/latest/))\n",
    "* conda 4.8.4 ([external guide](https://docs.conda.io/projects/conda/en/latest/user-guide/index.html))\n",
    "\n",
    "### 0.1.2 Core tools\n",
    "* **bioformats2raw            0.2.5** ([install locally](https://github.com/glencoesoftware/bioformats2raw/releases/latest); requires Java)\n",
    "* **minio-client                     2020.11.17** ([install locally](https://docs.min.io/docs/minio-client-complete-guide.html))\n",
    "\n",
    "### 0.1.3 Other\n",
    "\n",
    "   * awscli                    1.18.219\n",
    "   * dask                      2021.1.0\n",
    "   * fsspec                    0.8.5\n",
    "   * napari                    0.4.3\n",
    "   * numpy                     1.19.5\n",
    "   * ome-zarr                  0.0.17\n",
    "   * omero-cli-zarr            0.0.9\n",
    "   * omero-py                  5.8.2\n",
    "   * openjdk                   11.0.8\n",
    "   * tifffile                  2021.1.14\n",
    "   * zarr                      2.6.1\n",
    "   * vizarr 0.1.2\n",
    "\n",
    "***\n",
    "\n",
    "## 0.2. Notebook reminders\n",
    "\n",
    "This notebook is somewhat unusual in that we use a lot of command-line tools. Each of the lines beginning with a exclamation mark (`!`) is run in a terminal.\n",
    "\n",
    "For example, you can use standard bash commands like `pwd` to see what directory you are in. When using mybinder, this will start with `/home/jovyan`. If you are interested in _why_, see [What is a Jovyan?](https://jupyter.readthedocs.io/en/latest/community/content-community.html#what-is-a-jovyan)\n"
   ]
  },
  {
   "cell_type": "code",
   "execution_count": 5,
   "id": "c00cffeb",
   "metadata": {},
   "outputs": [
    {
     "name": "stdout",
     "output_type": "stream",
     "text": [
      "/opt/NGFF-ELMI-2021-Workshop\r\n"
     ]
    }
   ],
   "source": [
    "!pwd"
   ]
  },
  {
   "cell_type": "markdown",
   "id": "189865c3",
   "metadata": {},
   "source": [
    "The `binder/` directory contains a Conda [environment.yml](https://github.com/joshmoore/NGFF-GBI-2021-Workshop/blob/main/binder/environment.yml) file. You can use it to download all the tools we are using here."
   ]
  },
  {
   "cell_type": "code",
   "execution_count": 6,
   "id": "29baf13b",
   "metadata": {
    "scrolled": true
   },
   "outputs": [
    {
     "name": "stdout",
     "output_type": "stream",
     "text": [
      "apt.txt         environment.yml\r\n"
     ]
    }
   ],
   "source": [
    "!ls binder/"
   ]
  },
  {
   "cell_type": "code",
   "execution_count": 7,
   "id": "ee6b89bf",
   "metadata": {
    "scrolled": true
   },
   "outputs": [
    {
     "name": "stdout",
     "output_type": "stream",
     "text": [
      "channels:\r\n",
      "  - ome\r\n",
      "  - conda-forge\r\n",
      "  - joshmoore\r\n",
      "  - defaults\r\n",
      "dependencies:\r\n",
      "  - python == 3.9.0\r\n",
      "  - napari\r\n",
      "  - ipython\r\n",
      "  - wheel\r\n",
      "  - requests\r\n",
      "  - s3fs\r\n",
      "  - scikit-image\r\n",
      "  - scipy\r\n",
      "  - xarray\r\n",
      "  - zarr >= 2.4.0\r\n",
      "  - bioformats2raw\r\n",
      "  - omero-py\r\n",
      "  - go-mc\r\n",
      "  - pip\r\n",
      "  - pip:\r\n",
      "      - PyQT5==5.13.1\r\n",
      "      - ome-zarr\r\n",
      "      - awscli\r\n",
      "      - omero-cli-zarr\r\n"
     ]
    }
   ],
   "source": [
    "!cat binder/environment.yml"
   ]
  },
  {
   "cell_type": "markdown",
   "id": "7349ace0",
   "metadata": {},
   "source": [
    "You can perform those actions on your own system _without_ a Jupyter notebook. For that, you will need to install the correct tools like `bioformats2raw` or run everything via `repo2docker`.\n",
    "\n",
    "See instructions under https://github.com/joshmoore/NGFF-ELMI-2021-Workshop/blob/main/README.md\n",
    " \n",
    "****"
   ]
  },
  {
   "cell_type": "markdown",
   "id": "d281610a",
   "metadata": {
    "collapsed": true
   },
   "source": [
    "### License (BSD 2-Clause)\n",
    "\n",
    "Copyright (c) 2021, University of Dundee All rights reserved.\n",
    "\n",
    "Redistribution and use in source and binary forms, with or without modification, are permitted provided that the following conditions are met:\n",
    "\n",
    "Redistributions of source code must retain the above copyright notice, this list of conditions and the following disclaimer.\n",
    "Redistributions in binary form must reproduce the above copyright notice, this list of conditions and the following disclaimer in the documentation and/or other materials provided with the distribution.\n",
    "THIS SOFTWARE IS PROVIDED BY THE COPYRIGHT HOLDERS AND CONTRIBUTORS \"AS IS\" AND ANY EXPRESS OR IMPLIED WARRANTIES, INCLUDING, BUT NOT LIMITED TO, THE IMPLIED WARRANTIES OF MERCHANTABILITY AND FITNESS FOR A PARTICULAR PURPOSE ARE DISCLAIMED. IN NO EVENT SHALL THE COPYRIGHT OWNER OR CONTRIBUTORS BE LIABLE FOR ANY DIRECT, INDIRECT, INCIDENTAL, SPECIAL, EXEMPLARY, OR CONSEQUENTIAL DAMAGES (INCLUDING, BUT NOT LIMITED TO, PROCUREMENT OF SUBSTITUTE GOODS OR SERVICES; LOSS OF USE, DATA, OR PROFITS; OR BUSINESS INTERRUPTION) HOWEVER CAUSED AND ON ANY THEORY OF LIABILITY, WHETHER IN CONTRACT, STRICT LIABILITY, OR TORT (INCLUDING NEGLIGENCE OR OTHERWISE) ARISING IN ANY WAY OUT OF THE USE OF THIS SOFTWARE, EVEN IF ADVISED OF THE POSSIBILITY OF SUCH DAMAGE."
   ]
  }
 ],
 "metadata": {
  "kernelspec": {
   "display_name": "Python 3",
   "language": "python",
   "name": "python3"
  },
  "language_info": {
   "codemirror_mode": {
    "name": "ipython",
    "version": 3
   },
   "file_extension": ".py",
   "mimetype": "text/x-python",
   "name": "python",
   "nbconvert_exporter": "python",
   "pygments_lexer": "ipython3",
   "version": "3.9.1"
  }
 },
 "nbformat": 4,
 "nbformat_minor": 5
}
