{
 "cells": [
  {
   "cell_type": "markdown",
   "id": "dffa8906",
   "metadata": {},
   "source": [
    "#  Next-Generation File Formats (NGFF)\n",
    "## ELMI 2021 Workshop\n",
    "\n",
    "\n",
    "The presentation and a PDF version of the workshop are available at:\n",
    "\n",
    "https://downloads.openmicroscopy.org/presentations/2021/ELMI\n",
    "\n",
    "Software versions used for this workshop:\n",
    " * OME-Zarr: 0.0.20\n",
    " * Vizarr: X.Y.Z\n",
    "\n",
    "## Outline\n",
    "\n",
    " 0. Outline & Details (this notebook)\n",
    " 1. [Benefits of NGFFs to you](1_Viewing.ipynb)\n",
    " 2. [What is the \"Cloud\"?](2_Minio.ipynb)\n",
    " 3. [Getting started with data publishing](3_Conversion.ipynb)\n",
    " 4. [Advanced usage: analysis](4_Analysis.ipynb)\n",
    " \n",
    "## ELMI Poster\n",
    "\n",
    "<img src=\"poster.png\" title=\"Screenshot of poster\" width=\"400px\"/>\n",
    "\n",
    "Figshare URL\n",
    "\n",
    "## Poster Diagram\n",
    "\n",
    "![Digram from poster](diagram.png)"
   ]
  },
  {
   "cell_type": "markdown",
   "id": "d281610a",
   "metadata": {
    "collapsed": true
   },
   "source": [
    "### License (BSD 2-Clause)\n",
    "\n",
    "Copyright (c) 2021, University of Dundee All rights reserved.\n",
    "\n",
    "Redistribution and use in source and binary forms, with or without modification, are permitted provided that the following conditions are met:\n",
    "\n",
    "Redistributions of source code must retain the above copyright notice, this list of conditions and the following disclaimer.\n",
    "Redistributions in binary form must reproduce the above copyright notice, this list of conditions and the following disclaimer in the documentation and/or other materials provided with the distribution.\n",
    "THIS SOFTWARE IS PROVIDED BY THE COPYRIGHT HOLDERS AND CONTRIBUTORS \"AS IS\" AND ANY EXPRESS OR IMPLIED WARRANTIES, INCLUDING, BUT NOT LIMITED TO, THE IMPLIED WARRANTIES OF MERCHANTABILITY AND FITNESS FOR A PARTICULAR PURPOSE ARE DISCLAIMED. IN NO EVENT SHALL THE COPYRIGHT OWNER OR CONTRIBUTORS BE LIABLE FOR ANY DIRECT, INDIRECT, INCIDENTAL, SPECIAL, EXEMPLARY, OR CONSEQUENTIAL DAMAGES (INCLUDING, BUT NOT LIMITED TO, PROCUREMENT OF SUBSTITUTE GOODS OR SERVICES; LOSS OF USE, DATA, OR PROFITS; OR BUSINESS INTERRUPTION) HOWEVER CAUSED AND ON ANY THEORY OF LIABILITY, WHETHER IN CONTRACT, STRICT LIABILITY, OR TORT (INCLUDING NEGLIGENCE OR OTHERWISE) ARISING IN ANY WAY OUT OF THE USE OF THIS SOFTWARE, EVEN IF ADVISED OF THE POSSIBILITY OF SUCH DAMAGE."
   ]
  }
 ],
 "metadata": {
  "kernelspec": {
   "display_name": "Python 3",
   "language": "python",
   "name": "python3"
  },
  "language_info": {
   "codemirror_mode": {
    "name": "ipython",
    "version": 3
   },
   "file_extension": ".py",
   "mimetype": "text/x-python",
   "name": "python",
   "nbconvert_exporter": "python",
   "pygments_lexer": "ipython3",
   "version": "3.9.1"
  }
 },
 "nbformat": 4,
 "nbformat_minor": 5
}
