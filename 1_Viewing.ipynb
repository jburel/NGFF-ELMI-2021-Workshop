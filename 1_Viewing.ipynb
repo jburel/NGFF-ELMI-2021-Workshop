{
 "cells": [
  {
   "cell_type": "markdown",
   "id": "d30d79d3",
   "metadata": {
    "slideshow": {
     "slide_type": "slide"
    }
   },
   "source": [
    "## Viewing an image from the IDR\n",
    "OME-Zarr is a developing open standard for imaging from the OME community. The Imaging Data Resource (IDR) has provided serveral images in this experimental format which are publically avaiable.\n",
    "\n",
    "### Example of loading a multi-resolution Zarr image from a public S3 repository\n",
    "\n",
    "The images are taken from  the paper \"SARS-CoV-2 productively Infects Human Gut Enterocytes\" published May 2020 in Science: https://doi.org/10.1126/science.abc1669\n",
    "\n",
    "The electron micrograph images can be viewed online in the [Image Data Resource](https://idr.openmicroscopy.org/webclient/?show=dataset-10201). Both images are over 13 gigapixels each!\n",
    "- [hSIOs-1 (79360 x 167424 px, image ID 9822151)](https://idr.openmicroscopy.org/webclient/img_detail/9822151/?dataset=10201)\n",
    "- [hSIOs-2 (144384 x 93184 px, image ID 9822152)](https://idr.openmicroscopy.org/webclient/img_detail/9822152/?dataset=10201)\n",
    "\n",
    "\n",
    "See https://hms-dbmi.github.io/vizarr/v0.2/?source=https://s3.embassy.ebi.ac.uk/idr/zarr/v0.1/9822151.zarr\n",
    "\n",
    "More material at: https://github.com/hms-dbmi/vizarr/blob/main/example/IDR_example.ipynb\n"
   ]
  },
  {
   "cell_type": "code",
   "execution_count": 3,
   "id": "cb731ead",
   "metadata": {
    "slideshow": {
     "slide_type": "slide"
    }
   },
   "outputs": [
    {
     "data": {
      "application/javascript": [
       "window.connectPlugin && window.connectPlugin(\"3b86304e-6f41-4d80-a60f-0c3ec1488f01\")"
      ],
      "text/plain": [
       "<IPython.core.display.Javascript object>"
      ]
     },
     "metadata": {},
     "output_type": "display_data"
    },
    {
     "data": {
      "text/html": [
       "<div id=\"cf10e8d8-c2e6-4403-a05b-8e7ad6a38e81\"></div>"
      ],
      "text/plain": [
       "<IPython.core.display.HTML object>"
      ]
     },
     "metadata": {},
     "output_type": "display_data"
    }
   ],
   "source": [
    "from fsspec import get_mapper\n",
    "import zarr\n",
    "\n",
    "# Create a remote mapping to the data\n",
    "url = \"https://s3.embassy.ebi.ac.uk/idr/zarr/v0.1/9822151.zarr/\"\n",
    "store = get_mapper(url)\n",
    "z_grp = zarr.open(store, mode='r')\n",
    "\n",
    "from imjoy_plugin import run_vizarr\n",
    "run_vizarr({ \"source\": z_grp })"
   ]
  },
  {
   "cell_type": "markdown",
   "id": "32a06f60",
   "metadata": {},
   "source": [
    "OME-Zarr is a developing community standard. If you like to get involved, more information can be found on image.sc and the ome-zarr-py or omero-ms-zarr GitHub repositories."
   ]
  },
  {
   "cell_type": "markdown",
   "id": "1af517a5",
   "metadata": {},
   "source": [
    "# Introduction to Zarr and OME-Zarr\n",
    "\n",
    "Zarr is a format for the storage of chunked, compressed, N-dimensional arrays.\n",
    "Arrays can be organised into hierarchical groups with associated metadata. We are working on [OME-zarr](https://ngff.openmicroscopy.org/), a specification for how to represent Images, HCS Plates, ROIs and other data in Zarr format\n",
    "\n",
    "\n",
    "## Arrays\n",
    "\n",
    "Zarr arrays are stored as a directory that contains binary 'chunks' of data and a JSON file `.zarray` that specifies the chunks metadata. For example: \n",
    "\n",
    "```\n",
    "# .zarray\n",
    "{\n",
    "    \"chunks\": [\n",
    "        1,\n",
    "        1,\n",
    "        1,\n",
    "        256,\n",
    "        336\n",
    "    ],\n",
    "    \"compressor\": {\n",
    "        \"blocksize\": 0,\n",
    "        \"clevel\": 5,\n",
    "        \"cname\": \"lz4\",\n",
    "        \"id\": \"blosc\",\n",
    "        \"shuffle\": 1\n",
    "    },\n",
    "    \"dtype\": \"<i8\",\n",
    "    \"fill_value\": 0,\n",
    "    \"filters\": null,\n",
    "    \"order\": \"C\",\n",
    "    \"shape\": [\n",
    "        1,\n",
    "        1,\n",
    "        1,\n",
    "        1024,\n",
    "        1344\n",
    "    ],\n",
    "    \"zarr_format\": 2\n",
    "}\n",
    "```\n",
    "Chunks are named according to their index in the N-dimensional array. For example, in the 5D array above, chunks would be named:\n",
    "\n",
    "```\n",
    "# chunks of 5D array\n",
    "0.0.0.0.0\n",
    "0.0.0.0.1\n",
    "0.0.0.0.2\n",
    "0.0.0.0.3\n",
    "0.0.0.1.0\n",
    "0.0.0.1.1\n",
    "...\n",
    "```\n",
    "\n",
    "## Groups\n",
    "\n",
    "Zarr groups are directories that contain arrays or other groups, and a JSON file `.zattrs` that contains data about the group and it's contents.\n"
   ]
  },
  {
   "cell_type": "markdown",
   "id": "5961b2a3",
   "metadata": {},
   "source": [
    "# OME zarr\n",
    "\n",
    "## Images\n",
    "\n",
    "In OME zarr, Images are represented by a group with `multiscales` metadata. It may also contain `omero` metadata if available. The `multiscales` section will list 1 or more multiscale `datasets`, with a `path` to each zarr 5D `array` at different resolutions. Array dimensions are Time, Channel, Z, Y, X (`t.c.z.y.x`).\n",
    "\n",
    "```\n",
    "# image.zarr/.zattrs\n",
    "{\n",
    "    \"multiscales\": [\n",
    "        {\n",
    "            \"datasets\": [\n",
    "                {\n",
    "                    \"path\": \"0\"             # Path to Array containing full-size Image\n",
    "                },\n",
    "                {\n",
    "                    \"path\": \"1\"             # Path to Array containing sub-resolution Image\n",
    "                },\n",
    "                {\n",
    "                    \"path\": \"2\"             # Path to Array containing sub-resolution Image\n",
    "                }\n",
    "            ],\n",
    "            \"version\": \"0.1\"\n",
    "        }\n",
    "    ],\n",
    "    \"omero\": {\n",
    "        \"channels\": [\n",
    "            {\n",
    "                \"active\": true,\n",
    "                \"coefficient\": 1.0,\n",
    "                \"color\": \"0000FF\",\n",
    "                \"family\": \"linear\",\n",
    "                \"inverted\": false,\n",
    "                \"label\": \"DAPI\",\n",
    "                \"window\": {\n",
    "                    \"end\": 1500.0,\n",
    "                    \"max\": 65535.0,\n",
    "                    \"min\": 0.0,\n",
    "                    \"start\": 0.0\n",
    "                }\n",
    "            }\n",
    "        ],\n",
    "        \"id\": 1,\n",
    "        \"rdefs\": {\n",
    "            \"defaultT\": 0,\n",
    "            \"defaultZ\": 0,\n",
    "            \"model\": \"color\"\n",
    "        }\n",
    "    }\n",
    "}\n",
    "```\n",
    "\n",
    "Each Image array is found under the specified `path`, e.g. for `\"path\": \"0\"`:\n",
    "\n",
    "```\n",
    "# image.zarr/0/\n",
    ".zarray\n",
    "0.0.0.0.0\n",
    "0.0.0.0.1\n",
    "0.0.0.1.0\n",
    "0.0.0.1.1\n",
    "...\n",
    "```"
   ]
  },
  {
   "cell_type": "markdown",
   "id": "dd011786",
   "metadata": {},
   "source": [
    "## Loading sample OME zarr Images\n",
    "\n",
    "A list of example Images (from the IDR), converted to `OME zarr` and hosted at https://s3.embassy.ebi.ac.uk is available at https://blog.openmicroscopy.org/file-formats/community/2020/11/04/zarr-data/. You can 'copy' links to Images from the table."
   ]
  },
  {
   "cell_type": "code",
   "execution_count": null,
   "id": "527690a4",
   "metadata": {},
   "outputs": [],
   "source": [
    "import dask.array as da\n",
    "import numpy as np\n",
    "from IPython.display import display, Image\n",
    "from matplotlib import pyplot as plt\n",
    "import requests\n",
    "import zarr"
   ]
  },
  {
   "cell_type": "code",
   "execution_count": null,
   "id": "8bbfdad8",
   "metadata": {},
   "outputs": [],
   "source": [
    "imagepath = \"https://s3.embassy.ebi.ac.uk/idr/zarr/v0.1/9822151.zarr\""
   ]
  },
  {
   "cell_type": "code",
   "execution_count": null,
   "id": "353a4bcd",
   "metadata": {
    "scrolled": false
   },
   "outputs": [],
   "source": [
    "# Load the top-level .zattrs Image metadata\n",
    "zattrs = requests.get(f'{imagepath}/.zattrs').json()\n",
    "# Get the path for each resolution of the first multiscale dataset  \n",
    "resolutions = [d['path'] for d in zattrs['multiscales'][0]['datasets']]\n",
    "\n",
    "darrays = []\n",
    "for resolution in resolutions:\n",
    "    print(f'Resolution: \"{resolution}\"')\n",
    "    # Create a 'dask' array (like numpy array but with lazy loading of data)\n",
    "    array_5d = da.from_zarr(f'{imagepath}/{resolution}')\n",
    "    darrays.append(array_5d)\n",
    "    display(array_5d)"
   ]
  },
  {
   "cell_type": "markdown",
   "id": "56e3e9d4",
   "metadata": {},
   "source": [
    "Display the smallest resolution image. In this image `T`, `C`, `Z` are all singleton dimensions"
   ]
  },
  {
   "cell_type": "code",
   "execution_count": null,
   "id": "5681c3c5",
   "metadata": {},
   "outputs": [],
   "source": [
    "array_5d = darrays[-1]\n",
    "array_2d = array_5d[0, 0, 0, :, :]\n",
    "print(array_2d.shape)\n",
    "plt.figure(figsize=(10, 10))\n",
    "plt.imshow(array_2d, cmap='gray')"
   ]
  },
  {
   "cell_type": "markdown",
   "id": "cad08b53",
   "metadata": {},
   "source": [
    "As you can see it very low resolution, so let's look at the 3rd smallest resolution instead."
   ]
  },
  {
   "cell_type": "code",
   "execution_count": null,
   "id": "a01cd31d",
   "metadata": {},
   "outputs": [],
   "source": [
    "array_5d = darrays[-3]\n",
    "array_2d = array_5d[0, 0, 0, :, :]\n",
    "print(array_2d.shape)\n",
    "plt.figure(figsize=(10, 10))\n",
    "plt.imshow(array_2d, cmap='gray')"
   ]
  },
  {
   "cell_type": "markdown",
   "id": "dcb3479b",
   "metadata": {},
   "source": [
    "Now \"zoom in\" to the centre of image by showing the same number of pixels but at the next resolution up"
   ]
  },
  {
   "cell_type": "code",
   "execution_count": null,
   "id": "97f8de2f",
   "metadata": {
    "scrolled": true
   },
   "outputs": [],
   "source": [
    "# size of the region we want to show\n",
    "rwidth = 500\n",
    "rheight = 300\n",
    "\n",
    "# load a region for each level, from smallest to largest \n",
    "levels = range(len(darrays))\n",
    "for level in reversed(levels):\n",
    "    array_5d = darrays[level]\n",
    "    array_2d = array_5d[0, 0, 0, :, :]\n",
    "    # We want to show the centre-point of each level\n",
    "    cy, cx = int(array_2d.shape[0] / 2), int(array_2d.shape[1] / 2)\n",
    "    print(f'resolution: {level}, cy: {cy}, cx: {cx}')\n",
    "    # Crop the dask array - still doesn't load remote data yet\n",
    "    y1 = cy - (rheight/2)\n",
    "    y2 = cy + (rheight/2)\n",
    "    x1 = cx - (rwidth/2)\n",
    "    x2 = cx + (rwidth/2)\n",
    "    region = array_2d[y1:y2, x1:x2]\n",
    "    plt.figure(figsize=(10, 10))\n",
    "    # Show the image - loading remote data\n",
    "    plt.imshow(region, cmap='gray')\n",
    "    plt.title(level)\n",
    "    plt.show()"
   ]
  },
  {
   "cell_type": "markdown",
   "id": "44abac6d",
   "metadata": {},
   "source": [
    "## Labels\n",
    "\n",
    "Labels (or Masks) are pixel-based Regions of Interest, such as image segmentations. In OME zarr, labels are stored in a `labels` directory within the image.zarr directory. Labels are 5D zarr arrays corresponding to the shape of the parent image, with background values of `0` and each label represented by a different pixel value.\n",
    "\n",
    "Multiple `arrays` of labels can be stored under the labels group, as defined in the `labels/.zattrs` JSON:\n",
    "\n",
    "```\n",
    "# image.zarr/labels/.zattrs\n",
    "\n",
    "{\n",
    "    \"labels\": [\n",
    "        \"0\"\n",
    "    ]\n",
    "}\n",
    "```\n",
    "\n",
    "This indicates a labels array at `image.zarr/labels/0/`.\n",
    "\n",
    "\n"
   ]
  },
  {
   "cell_type": "code",
   "execution_count": null,
   "id": "2b3523e8",
   "metadata": {},
   "outputs": [],
   "source": [
    "imagepath = 'https://s3.embassy.ebi.ac.uk/idr/zarr/v0.1/plates/2551.zarr/A/1/0'\n",
    "zattrs = requests.get(f'{imagepath}/labels/.zattrs').json()\n",
    "print('zattrs', zattrs)\n",
    "\n",
    "label_path = zattrs['labels'][0]\n",
    "labels_metadata = requests.get(f'{imagepath}/labels/{label_path}/.zattrs').json()\n",
    "print('labels multiscales', labels_metadata['multiscales'])"
   ]
  },
  {
   "cell_type": "code",
   "execution_count": null,
   "id": "4e39b088",
   "metadata": {},
   "outputs": [],
   "source": [
    "# As for 'image' we have a pyramid of 'multiscales' arrays\n",
    "res = [d['path'] for d in labels_metadata['multiscales'][0]['datasets']]\n",
    "labels_5d = da.from_zarr(f'{imagepath}/labels/{label_path}/{res[0]}')\n",
    "labels_2d = labels_5d[0, 0, 0, :, :]\n",
    "\n",
    "# load the dask array, so we can find max and min\n",
    "labels_2d = labels_2d.compute()\n",
    "max_value = labels_2d.max()\n",
    "min_value = labels_2d[labels_2d > 0].min()   # min() ignoring 0 values\n",
    "print(f'min_value: {min_value}, max_value: {max_value}')\n",
    "\n",
    "# Render, scaling gray from min to max\n",
    "plt.figure(figsize=(10, 10))\n",
    "plt.imshow(labels_2d, cmap='gray', vmin=min_value, vmax=max_value)\n",
    "plt.show()"
   ]
  },
  {
   "cell_type": "markdown",
   "id": "49cd1b6c",
   "metadata": {},
   "source": [
    "Labels metadata\n",
    "\n",
    "Metadata for labels can be stored within an `image-label` object in each labels `.zattrs`. The labels are identified by the `label-value`, which is the pixel value of the corresponding label. Currently the defined keys are `colors` and `properties`, which may be used for storing custom properties for each label:\n",
    "\n",
    "```\n",
    "# image.zarr/labels/0/.zattrs\n",
    "\n",
    "{\n",
    "  \"multiscales\": [\n",
    "    # as for images above\n",
    "  ],\n",
    "  \"image-label\":\n",
    "    {\n",
    "      \"version\": \"0.1\",\n",
    "      \"colors\": [\n",
    "        {\n",
    "          \"label-value\": 732780,\n",
    "          \"rgba\": [255, 255, 255, 0]\n",
    "        },\n",
    "        {\n",
    "          \"label-value\": 732781,\n",
    "          \"rgba\": [0, 255, 255, 128]\n",
    "        },\n",
    "        ...\n",
    "        ]\n",
    "      },\n",
    "      \"properties\": [\n",
    "        {\n",
    "          \"label-value\": 732780,\n",
    "          \"text\": \"nucleus 1\",\n",
    "          \"GFP intensity\": 456.5\n",
    "        },\n",
    "        {\n",
    "          \"label-value\": 732781,\n",
    "          \"text\": \"nucleas 2\",\n",
    "          \"GFP intensity\": 678.0\n",
    "        },\n",
    "        ...\n",
    "        ]\n",
    "      },\n",
    "      \"source\": {\n",
    "        \"image\": \"../../\"\n",
    "      }\n",
    "    }\n",
    "}\n",
    "\n",
    "```"
   ]
  },
  {
   "cell_type": "markdown",
   "id": "68f8cca2",
   "metadata": {},
   "source": [
    "## Plates - HCS Data\n",
    "\n",
    "A Plate is a collection of Images with 1 or more Images (fields) in a Well into rows and columns. In OME-Zarr, this is represented as a hierarchy of groups: `plate/row_name/column_name/field_index/`.\n",
    "\n",
    "The `.zattrs` at the top level will contain `plate` metadata to specify the row and column names and the wells in the plate (not every row/column position may contain a well):\n",
    "\n",
    "```\n",
    "# plate/.attrs\n",
    "\n",
    "{\n",
    "  \"plate\": {\n",
    "    \"name\": \"plate-name\",\n",
    "    \"rows\": [\n",
    "        {\n",
    "            \"name\": \"A\"\n",
    "        },\n",
    "        {\n",
    "            \"name\": \"B\"\n",
    "        }\n",
    "    ],\n",
    "    \"columns\": [\n",
    "        {\n",
    "            \"name\": \"1\"\n",
    "        },\n",
    "        {\n",
    "            \"name\": \"2\"\n",
    "        },\n",
    "        {\n",
    "            \"name\": \"3\"\n",
    "        }\n",
    "    ],\n",
    "    \"field_count\": 4,\n",
    "    \"version\": \"0.1\",\n",
    "    \"wells\": [\n",
    "        {\n",
    "            \"path\": \"A/1\"\n",
    "        },\n",
    "        {\n",
    "            \"path\": \"A/2\"\n",
    "        },\n",
    "        {\n",
    "            \"path\": \"B/1\"\n",
    "        },\n",
    "        {\n",
    "            \"path\": \"B/3\"\n",
    "        }\n",
    "    ]\n",
    "  }\n",
    "}\n",
    "\n",
    "```\n",
    "\n"
   ]
  },
  {
   "cell_type": "markdown",
   "id": "e71cbd65",
   "metadata": {},
   "source": [
    "Sample HCS plates in OME-Zarr format are listed at https://blog.openmicroscopy.org/file-formats/community/2020/12/01/zarr-hcs/   "
   ]
  },
  {
   "cell_type": "code",
   "execution_count": null,
   "id": "e874d28d",
   "metadata": {},
   "outputs": [],
   "source": [
    "plate_url = \"https://s3.embassy.ebi.ac.uk/idr/zarr/v0.1/plates/422.zarr\"\n",
    "# Alternative plate\n",
    "# plate_url = \"https://s3.embassy.ebi.ac.uk/idr/zarr/v0.1/plates/2551.zarr\"\n",
    "\n",
    "# Load the top-level .zattrs Plate metadata\n",
    "zattrs = requests.get(f'{plate_url}/.zattrs').json()\n",
    "plate_metadata = zattrs['plate']\n",
    "# Get the path to each well - NB: May not be sorted yet\n",
    "well_paths = [w['path'] for w in plate_metadata['wells']]\n",
    "well_paths.sort()\n",
    "print(well_paths)"
   ]
  },
  {
   "cell_type": "code",
   "execution_count": null,
   "id": "43c0caba",
   "metadata": {},
   "outputs": [],
   "source": [
    "# We can assume at least 1 field (image) in each well\n",
    "field = '0'\n",
    "# Load metadata for first Well\n",
    "image_metadata = requests.get(f'{plate_url}/{well_paths[0]}/{field}/.zattrs').json()\n",
    "resolutions = [d['path'] for d in image_metadata['multiscales'][0]['datasets']]\n",
    "\n",
    "# Show the lowest resolution, first ZCT plane of first 5 Wells\n",
    "Z, C, T = (0, 0, 0)\n",
    "resolution = resolutions[-1]\n",
    "for path in well_paths[0:5]:\n",
    "    print(f'{plate_url}/{path}/{field}/{resolution}')\n",
    "    data_5d = da.from_zarr(f'{plate_url}/{path}/{field}/{resolution}')\n",
    "    print('data_5d.shape', data_5d.shape)\n",
    "    first_plane = data_5d[T, C, Z, :, :]\n",
    "    plt.figure(figsize=(4, 4))\n",
    "    plt.title(path)\n",
    "    plt.imshow(first_plane, cmap='gray')"
   ]
  },
  {
   "cell_type": "markdown",
   "id": "d281610a",
   "metadata": {
    "collapsed": true
   },
   "source": [
    "### License (BSD 2-Clause)\n",
    "\n",
    "Copyright (c) 2021, University of Dundee All rights reserved.\n",
    "\n",
    "Redistribution and use in source and binary forms, with or without modification, are permitted provided that the following conditions are met:\n",
    "\n",
    "Redistributions of source code must retain the above copyright notice, this list of conditions and the following disclaimer.\n",
    "Redistributions in binary form must reproduce the above copyright notice, this list of conditions and the following disclaimer in the documentation and/or other materials provided with the distribution.\n",
    "THIS SOFTWARE IS PROVIDED BY THE COPYRIGHT HOLDERS AND CONTRIBUTORS \"AS IS\" AND ANY EXPRESS OR IMPLIED WARRANTIES, INCLUDING, BUT NOT LIMITED TO, THE IMPLIED WARRANTIES OF MERCHANTABILITY AND FITNESS FOR A PARTICULAR PURPOSE ARE DISCLAIMED. IN NO EVENT SHALL THE COPYRIGHT OWNER OR CONTRIBUTORS BE LIABLE FOR ANY DIRECT, INDIRECT, INCIDENTAL, SPECIAL, EXEMPLARY, OR CONSEQUENTIAL DAMAGES (INCLUDING, BUT NOT LIMITED TO, PROCUREMENT OF SUBSTITUTE GOODS OR SERVICES; LOSS OF USE, DATA, OR PROFITS; OR BUSINESS INTERRUPTION) HOWEVER CAUSED AND ON ANY THEORY OF LIABILITY, WHETHER IN CONTRACT, STRICT LIABILITY, OR TORT (INCLUDING NEGLIGENCE OR OTHERWISE) ARISING IN ANY WAY OUT OF THE USE OF THIS SOFTWARE, EVEN IF ADVISED OF THE POSSIBILITY OF SUCH DAMAGE."
   ]
  }
 ],
 "metadata": {
  "kernelspec": {
   "display_name": "Python 3",
   "language": "python",
   "name": "python3"
  },
  "language_info": {
   "codemirror_mode": {
    "name": "ipython",
    "version": 3
   },
   "file_extension": ".py",
   "mimetype": "text/x-python",
   "name": "python",
   "nbconvert_exporter": "python",
   "pygments_lexer": "ipython3",
   "version": "3.9.1"
  }
 },
 "nbformat": 4,
 "nbformat_minor": 5
}
