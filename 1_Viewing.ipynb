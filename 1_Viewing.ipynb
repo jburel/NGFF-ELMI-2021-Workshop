{
 "cells": [
  {
   "cell_type": "markdown",
   "id": "d30d79d3",
   "metadata": {
    "slideshow": {
     "slide_type": "slide"
    }
   },
   "source": [
    "# 1. Viewing an image from the IDR (practical)\n",
    "\n",
    "***\n",
    "\n",
    "**ELMI 2021 NGFF Workshop**, 25 June 2021\n",
    "\n",
    "***\n",
    "\n",
    "\n",
    "## Summary\n",
    "\n",
    "* 1.1 Digram from poster\n",
    "* 1.2 Example of loading a multi-resolution Zarr image\n",
    "* 1.3 Vizarr\n",
    "* 1.4+ Details!\n",
    "\n",
    "\n",
    "## 1.1 Diagram from poster"
   ]
  },
  {
   "cell_type": "code",
   "execution_count": 4,
   "id": "3b0400c0",
   "metadata": {},
   "outputs": [
    {
     "data": {
      "application/vnd.jupyter.widget-view+json": {
       "model_id": "7f56ed8bfd1944169b96fb72cb4df9d4",
       "version_major": 2,
       "version_minor": 0
      },
      "text/plain": [
       "interactive(children=(IntSlider(value=300, description='size', max=900, min=-300), Output()), _dom_classes=('w…"
      ]
     },
     "metadata": {},
     "output_type": "display_data"
    }
   ],
   "source": [
    "import ipywidgets as widgets\n",
    "from ipywidgets import interact\n",
    "@interact\n",
    "def show_poster(size=300):\n",
    "    if size < 0: size=10\n",
    "    from IPython.display import Image\n",
    "    display(Image(url='images/diagram.png', width=size))"
   ]
  },
  {
   "cell_type": "markdown",
   "id": "30734334",
   "metadata": {},
   "source": [
    "## 1.2 Example of loading a multi-resolution Zarr image from a public S3 repository\n",
    "\n",
    "OME-Zarr is a developing open standard for imaging from the OME community. The Imaging Data Resource (IDR) has provided serveral images in this experimental format which are publically avaiable.\n",
    "\n",
    "The images are taken from  the paper \"SARS-CoV-2 productively Infects Human Gut Enterocytes\" published May 2020 in Science: https://doi.org/10.1126/science.abc1669\n",
    "\n",
    "The electron micrograph images can be viewed online in the [Image Data Resource](https://idr.openmicroscopy.org/webclient/?show=dataset-10201). Both images are over 13 gigapixels each!\n",
    "- [hSIOs-1 (79360 x 167424 px, image ID 9822151)](https://idr.openmicroscopy.org/webclient/img_detail/9822151/?dataset=10201)\n",
    "- [hSIOs-2 (144384 x 93184 px, image ID 9822152)](https://idr.openmicroscopy.org/webclient/img_detail/9822152/?dataset=10201)\n",
    "\n",
    "This viewer is [vizarr](https://github.com/hms-dbmi/vizarr) from the [Gehlenborg lab](http://gehlenborglab.org/) at Harvard Medical School. It can be accessed at https://hms-dbmi.github.io/vizarr for example to access data from the IDR: [link](http://hms-dbmi.github.io/vizarr/v0.1?source=https%3A%2F%2Fs3.embassy.ebi.ac.uk%2Fidr%2Fzarr%2Fv0.1%2F9822151.zarr)."
   ]
  },
  {
   "cell_type": "markdown",
   "id": "05e62333",
   "metadata": {},
   "source": [
    "## 1.3 Vizarr"
   ]
  },
  {
   "cell_type": "code",
   "execution_count": 5,
   "id": "66899c19",
   "metadata": {
    "scrolled": true
   },
   "outputs": [
    {
     "data": {
      "text/html": [
       "\n",
       "        <iframe\n",
       "            width=\"600\"\n",
       "            height=\"800\"\n",
       "            src=\"https://hms-dbmi.github.io/vizarr/v0.2/?source=https://s3.embassy.ebi.ac.uk/idr/zarr/v0.1/9822151.zarr\"\n",
       "            frameborder=\"0\"\n",
       "            allowfullscreen\n",
       "        ></iframe>\n",
       "        "
      ],
      "text/plain": [
       "<IPython.lib.display.IFrame at 0x7fbd883b1910>"
      ]
     },
     "execution_count": 5,
     "metadata": {},
     "output_type": "execute_result"
    }
   ],
   "source": [
    "from IPython.display import IFrame\n",
    "IFrame(\"https://hms-dbmi.github.io/vizarr/v0.2/?source=https://s3.embassy.ebi.ac.uk/idr/zarr/v0.1/9822151.zarr\", width=600, height=800)"
   ]
  },
  {
   "cell_type": "code",
   "execution_count": 9,
   "id": "6c5e7b9e",
   "metadata": {},
   "outputs": [
    {
     "data": {
      "application/vnd.jupyter.widget-view+json": {
       "model_id": "c4e43a6f8e64441bb67ff423a42d8982",
       "version_major": 2,
       "version_minor": 0
      },
      "text/plain": [
       "interactive(children=(IntSlider(value=800, description='size', max=2400, min=-800), Output()), _dom_classes=('…"
      ]
     },
     "metadata": {},
     "output_type": "display_data"
    }
   ],
   "source": [
    "import ipywidgets as widgets\n",
    "from ipywidgets import interact\n",
    "@interact\n",
    "def show_poster(size=800):\n",
    "    if size < 0: size=10\n",
    "    from IPython.display import Image\n",
    "    display(Image(url='images/inspect.png', width=size))"
   ]
  },
  {
   "cell_type": "markdown",
   "id": "b84367b5",
   "metadata": {},
   "source": [
    "##  1.4 Other browsers\n",
    "\n",
    "### [MoBIE (FIJI)](https://youtu.be/iBrKyO0r4r8)"
   ]
  },
  {
   "cell_type": "code",
   "execution_count": 7,
   "id": "3e2b766f",
   "metadata": {
    "scrolled": true
   },
   "outputs": [
    {
     "data": {
      "text/html": [
       "\n",
       "        <iframe\n",
       "            width=\"560\"\n",
       "            height=\"315\"\n",
       "            src=\"https://www.youtube.com/embed/iBrKyO0r4r8?autoplay=1&mute=1&loop=1&playlist=iBrKyO0r4r8&showinfo=0?allow=autoplay\"\n",
       "            frameborder=\"0\"\n",
       "            allowfullscreen\n",
       "        ></iframe>\n",
       "        "
      ],
      "text/plain": [
       "<IPython.lib.display.IFrame at 0x7fbd883b1ac0>"
      ]
     },
     "execution_count": 7,
     "metadata": {},
     "output_type": "execute_result"
    }
   ],
   "source": [
    "from IPython.display import IFrame\n",
    "video=\"iBrKyO0r4r8\"\n",
    "IFrame(f'https://www.youtube.com/embed/{video}?autoplay=1&mute=1&loop=1&playlist={video}&showinfo=0',\n",
    "       allow='autoplay', width=\"560\", height=\"315\")"
   ]
  },
  {
   "cell_type": "markdown",
   "id": "8ae318e8",
   "metadata": {},
   "source": [
    "### [napari](https://youtu.be/EQg7YfcTpKo)"
   ]
  },
  {
   "cell_type": "code",
   "execution_count": 8,
   "id": "dbb74f19",
   "metadata": {},
   "outputs": [
    {
     "data": {
      "text/html": [
       "\n",
       "        <iframe\n",
       "            width=\"560\"\n",
       "            height=\"315\"\n",
       "            src=\"https://www.youtube.com/embed/EQg7YfcTpKo?autoplay=1&mute=1&loop=1&playlist=EQg7YfcTpKo&showinfo=0?allow=autoplay\"\n",
       "            frameborder=\"0\"\n",
       "            allowfullscreen\n",
       "        ></iframe>\n",
       "        "
      ],
      "text/plain": [
       "<IPython.lib.display.IFrame at 0x7fbd883b1bb0>"
      ]
     },
     "execution_count": 8,
     "metadata": {},
     "output_type": "execute_result"
    }
   ],
   "source": [
    "from IPython.display import IFrame\n",
    "video=\"EQg7YfcTpKo\"\n",
    "IFrame(f'https://www.youtube.com/embed/{video}?autoplay=1&mute=1&loop=1&playlist={video}&showinfo=0',\n",
    "       allow='autoplay', width=\"560\", height=\"315\")"
   ]
  },
  {
   "cell_type": "markdown",
   "id": "d426f451",
   "metadata": {},
   "source": [
    "## Dask"
   ]
  },
  {
   "cell_type": "code",
   "execution_count": 1,
   "id": "1eae30c0",
   "metadata": {},
   "outputs": [
    {
     "data": {
      "text/html": [
       "<table>\n",
       "<tr>\n",
       "<td>\n",
       "<table>\n",
       "  <thead>\n",
       "    <tr><td> </td><th> Array </th><th> Chunk </th></tr>\n",
       "  </thead>\n",
       "  <tbody>\n",
       "    <tr><th> Bytes </th><td> 24.75 GiB </td> <td> 2.00 MiB </td></tr>\n",
       "    <tr><th> Shape </th><td> (1, 1, 1, 167424, 79360) </td> <td> (1, 1, 1, 1024, 1024) </td></tr>\n",
       "    <tr><th> Count </th><td> 25585 Tasks </td><td> 12792 Chunks </td></tr>\n",
       "    <tr><th> Type </th><td> >u2 </td><td> numpy.ndarray </td></tr>\n",
       "  </tbody>\n",
       "</table>\n",
       "</td>\n",
       "<td>\n",
       "<svg width=\"311\" height=\"184\" style=\"stroke:rgb(0,0,0);stroke-width:1\" >\n",
       "\n",
       "  <!-- Horizontal lines -->\n",
       "  <line x1=\"0\" y1=\"0\" x2=\"25\" y2=\"0\" style=\"stroke-width:2\" />\n",
       "  <line x1=\"0\" y1=\"25\" x2=\"25\" y2=\"25\" style=\"stroke-width:2\" />\n",
       "\n",
       "  <!-- Vertical lines -->\n",
       "  <line x1=\"0\" y1=\"0\" x2=\"0\" y2=\"25\" style=\"stroke-width:2\" />\n",
       "  <line x1=\"25\" y1=\"0\" x2=\"25\" y2=\"25\" style=\"stroke-width:2\" />\n",
       "\n",
       "  <!-- Colored Rectangle -->\n",
       "  <polygon points=\"0.0,0.0 25.412616514582485,0.0 25.412616514582485,25.412616514582485 0.0,25.412616514582485\" style=\"fill:#ECB172A0;stroke-width:0\"/>\n",
       "\n",
       "  <!-- Text -->\n",
       "  <text x=\"12.706308\" y=\"45.412617\" font-size=\"1.0rem\" font-weight=\"100\" text-anchor=\"middle\" >1</text>\n",
       "  <text x=\"45.412617\" y=\"12.706308\" font-size=\"1.0rem\" font-weight=\"100\" text-anchor=\"middle\" transform=\"rotate(0,45.412617,12.706308)\">1</text>\n",
       "\n",
       "\n",
       "  <!-- Horizontal lines -->\n",
       "  <line x1=\"95\" y1=\"0\" x2=\"109\" y2=\"14\" style=\"stroke-width:2\" />\n",
       "  <line x1=\"95\" y1=\"3\" x2=\"109\" y2=\"18\" />\n",
       "  <line x1=\"95\" y1=\"7\" x2=\"109\" y2=\"22\" />\n",
       "  <line x1=\"95\" y1=\"11\" x2=\"109\" y2=\"25\" />\n",
       "  <line x1=\"95\" y1=\"14\" x2=\"109\" y2=\"29\" />\n",
       "  <line x1=\"95\" y1=\"18\" x2=\"109\" y2=\"33\" />\n",
       "  <line x1=\"95\" y1=\"22\" x2=\"109\" y2=\"36\" />\n",
       "  <line x1=\"95\" y1=\"25\" x2=\"109\" y2=\"40\" />\n",
       "  <line x1=\"95\" y1=\"30\" x2=\"109\" y2=\"45\" />\n",
       "  <line x1=\"95\" y1=\"33\" x2=\"109\" y2=\"48\" />\n",
       "  <line x1=\"95\" y1=\"37\" x2=\"109\" y2=\"52\" />\n",
       "  <line x1=\"95\" y1=\"41\" x2=\"109\" y2=\"56\" />\n",
       "  <line x1=\"95\" y1=\"44\" x2=\"109\" y2=\"59\" />\n",
       "  <line x1=\"95\" y1=\"48\" x2=\"109\" y2=\"63\" />\n",
       "  <line x1=\"95\" y1=\"52\" x2=\"109\" y2=\"67\" />\n",
       "  <line x1=\"95\" y1=\"55\" x2=\"109\" y2=\"70\" />\n",
       "  <line x1=\"95\" y1=\"60\" x2=\"109\" y2=\"75\" />\n",
       "  <line x1=\"95\" y1=\"63\" x2=\"109\" y2=\"78\" />\n",
       "  <line x1=\"95\" y1=\"67\" x2=\"109\" y2=\"82\" />\n",
       "  <line x1=\"95\" y1=\"71\" x2=\"109\" y2=\"86\" />\n",
       "  <line x1=\"95\" y1=\"74\" x2=\"109\" y2=\"89\" />\n",
       "  <line x1=\"95\" y1=\"78\" x2=\"109\" y2=\"93\" />\n",
       "  <line x1=\"95\" y1=\"82\" x2=\"109\" y2=\"97\" />\n",
       "  <line x1=\"95\" y1=\"85\" x2=\"109\" y2=\"100\" />\n",
       "  <line x1=\"95\" y1=\"90\" x2=\"109\" y2=\"105\" />\n",
       "  <line x1=\"95\" y1=\"93\" x2=\"109\" y2=\"108\" />\n",
       "  <line x1=\"95\" y1=\"97\" x2=\"109\" y2=\"112\" />\n",
       "  <line x1=\"95\" y1=\"101\" x2=\"109\" y2=\"116\" />\n",
       "  <line x1=\"95\" y1=\"104\" x2=\"109\" y2=\"119\" />\n",
       "  <line x1=\"95\" y1=\"108\" x2=\"109\" y2=\"123\" />\n",
       "  <line x1=\"95\" y1=\"112\" x2=\"109\" y2=\"127\" />\n",
       "  <line x1=\"95\" y1=\"115\" x2=\"109\" y2=\"130\" />\n",
       "  <line x1=\"95\" y1=\"120\" x2=\"109\" y2=\"134\" style=\"stroke-width:2\" />\n",
       "\n",
       "  <!-- Vertical lines -->\n",
       "  <line x1=\"95\" y1=\"0\" x2=\"95\" y2=\"120\" style=\"stroke-width:2\" />\n",
       "  <line x1=\"109\" y1=\"14\" x2=\"109\" y2=\"134\" style=\"stroke-width:2\" />\n",
       "\n",
       "  <!-- Colored Rectangle -->\n",
       "  <polygon points=\"95.0,0.0 109.9485979497544,14.948597949754403 109.9485979497544,134.9485979497544 95.0,120.0\" style=\"fill:#8B4903A0;stroke-width:0\"/>\n",
       "\n",
       "  <!-- Horizontal lines -->\n",
       "  <line x1=\"95\" y1=\"0\" x2=\"151\" y2=\"0\" style=\"stroke-width:2\" />\n",
       "  <line x1=\"109\" y1=\"14\" x2=\"166\" y2=\"14\" style=\"stroke-width:2\" />\n",
       "\n",
       "  <!-- Vertical lines -->\n",
       "  <line x1=\"95\" y1=\"0\" x2=\"109\" y2=\"14\" style=\"stroke-width:2\" />\n",
       "  <line x1=\"96\" y1=\"0\" x2=\"111\" y2=\"14\" />\n",
       "  <line x1=\"97\" y1=\"0\" x2=\"112\" y2=\"14\" />\n",
       "  <line x1=\"100\" y1=\"0\" x2=\"115\" y2=\"14\" />\n",
       "  <line x1=\"101\" y1=\"0\" x2=\"116\" y2=\"14\" />\n",
       "  <line x1=\"103\" y1=\"0\" x2=\"118\" y2=\"14\" />\n",
       "  <line x1=\"105\" y1=\"0\" x2=\"120\" y2=\"14\" />\n",
       "  <line x1=\"107\" y1=\"0\" x2=\"122\" y2=\"14\" />\n",
       "  <line x1=\"108\" y1=\"0\" x2=\"123\" y2=\"14\" />\n",
       "  <line x1=\"110\" y1=\"0\" x2=\"125\" y2=\"14\" />\n",
       "  <line x1=\"112\" y1=\"0\" x2=\"127\" y2=\"14\" />\n",
       "  <line x1=\"114\" y1=\"0\" x2=\"129\" y2=\"14\" />\n",
       "  <line x1=\"116\" y1=\"0\" x2=\"131\" y2=\"14\" />\n",
       "  <line x1=\"117\" y1=\"0\" x2=\"132\" y2=\"14\" />\n",
       "  <line x1=\"119\" y1=\"0\" x2=\"134\" y2=\"14\" />\n",
       "  <line x1=\"121\" y1=\"0\" x2=\"136\" y2=\"14\" />\n",
       "  <line x1=\"123\" y1=\"0\" x2=\"138\" y2=\"14\" />\n",
       "  <line x1=\"125\" y1=\"0\" x2=\"140\" y2=\"14\" />\n",
       "  <line x1=\"126\" y1=\"0\" x2=\"141\" y2=\"14\" />\n",
       "  <line x1=\"128\" y1=\"0\" x2=\"143\" y2=\"14\" />\n",
       "  <line x1=\"130\" y1=\"0\" x2=\"145\" y2=\"14\" />\n",
       "  <line x1=\"132\" y1=\"0\" x2=\"147\" y2=\"14\" />\n",
       "  <line x1=\"133\" y1=\"0\" x2=\"148\" y2=\"14\" />\n",
       "  <line x1=\"136\" y1=\"0\" x2=\"151\" y2=\"14\" />\n",
       "  <line x1=\"137\" y1=\"0\" x2=\"152\" y2=\"14\" />\n",
       "  <line x1=\"139\" y1=\"0\" x2=\"153\" y2=\"14\" />\n",
       "  <line x1=\"141\" y1=\"0\" x2=\"156\" y2=\"14\" />\n",
       "  <line x1=\"142\" y1=\"0\" x2=\"157\" y2=\"14\" />\n",
       "  <line x1=\"144\" y1=\"0\" x2=\"159\" y2=\"14\" />\n",
       "  <line x1=\"146\" y1=\"0\" x2=\"161\" y2=\"14\" />\n",
       "  <line x1=\"148\" y1=\"0\" x2=\"163\" y2=\"14\" />\n",
       "  <line x1=\"150\" y1=\"0\" x2=\"164\" y2=\"14\" />\n",
       "  <line x1=\"151\" y1=\"0\" x2=\"166\" y2=\"14\" style=\"stroke-width:2\" />\n",
       "\n",
       "  <!-- Colored Rectangle -->\n",
       "  <polygon points=\"95.0,0.0 151.88073394495413,0.0 166.82933189470853,14.948597949754403 109.9485979497544,14.948597949754403\" style=\"fill:#8B4903A0;stroke-width:0\"/>\n",
       "\n",
       "  <!-- Horizontal lines -->\n",
       "  <line x1=\"109\" y1=\"14\" x2=\"166\" y2=\"14\" style=\"stroke-width:2\" />\n",
       "  <line x1=\"109\" y1=\"18\" x2=\"166\" y2=\"18\" />\n",
       "  <line x1=\"109\" y1=\"22\" x2=\"166\" y2=\"22\" />\n",
       "  <line x1=\"109\" y1=\"25\" x2=\"166\" y2=\"25\" />\n",
       "  <line x1=\"109\" y1=\"29\" x2=\"166\" y2=\"29\" />\n",
       "  <line x1=\"109\" y1=\"33\" x2=\"166\" y2=\"33\" />\n",
       "  <line x1=\"109\" y1=\"36\" x2=\"166\" y2=\"36\" />\n",
       "  <line x1=\"109\" y1=\"40\" x2=\"166\" y2=\"40\" />\n",
       "  <line x1=\"109\" y1=\"45\" x2=\"166\" y2=\"45\" />\n",
       "  <line x1=\"109\" y1=\"48\" x2=\"166\" y2=\"48\" />\n",
       "  <line x1=\"109\" y1=\"52\" x2=\"166\" y2=\"52\" />\n",
       "  <line x1=\"109\" y1=\"56\" x2=\"166\" y2=\"56\" />\n",
       "  <line x1=\"109\" y1=\"59\" x2=\"166\" y2=\"59\" />\n",
       "  <line x1=\"109\" y1=\"63\" x2=\"166\" y2=\"63\" />\n",
       "  <line x1=\"109\" y1=\"67\" x2=\"166\" y2=\"67\" />\n",
       "  <line x1=\"109\" y1=\"70\" x2=\"166\" y2=\"70\" />\n",
       "  <line x1=\"109\" y1=\"75\" x2=\"166\" y2=\"75\" />\n",
       "  <line x1=\"109\" y1=\"78\" x2=\"166\" y2=\"78\" />\n",
       "  <line x1=\"109\" y1=\"82\" x2=\"166\" y2=\"82\" />\n",
       "  <line x1=\"109\" y1=\"86\" x2=\"166\" y2=\"86\" />\n",
       "  <line x1=\"109\" y1=\"89\" x2=\"166\" y2=\"89\" />\n",
       "  <line x1=\"109\" y1=\"93\" x2=\"166\" y2=\"93\" />\n",
       "  <line x1=\"109\" y1=\"97\" x2=\"166\" y2=\"97\" />\n",
       "  <line x1=\"109\" y1=\"100\" x2=\"166\" y2=\"100\" />\n",
       "  <line x1=\"109\" y1=\"105\" x2=\"166\" y2=\"105\" />\n",
       "  <line x1=\"109\" y1=\"108\" x2=\"166\" y2=\"108\" />\n",
       "  <line x1=\"109\" y1=\"112\" x2=\"166\" y2=\"112\" />\n",
       "  <line x1=\"109\" y1=\"116\" x2=\"166\" y2=\"116\" />\n",
       "  <line x1=\"109\" y1=\"119\" x2=\"166\" y2=\"119\" />\n",
       "  <line x1=\"109\" y1=\"123\" x2=\"166\" y2=\"123\" />\n",
       "  <line x1=\"109\" y1=\"127\" x2=\"166\" y2=\"127\" />\n",
       "  <line x1=\"109\" y1=\"130\" x2=\"166\" y2=\"130\" />\n",
       "  <line x1=\"109\" y1=\"134\" x2=\"166\" y2=\"134\" style=\"stroke-width:2\" />\n",
       "\n",
       "  <!-- Vertical lines -->\n",
       "  <line x1=\"109\" y1=\"14\" x2=\"109\" y2=\"134\" style=\"stroke-width:2\" />\n",
       "  <line x1=\"111\" y1=\"14\" x2=\"111\" y2=\"134\" />\n",
       "  <line x1=\"112\" y1=\"14\" x2=\"112\" y2=\"134\" />\n",
       "  <line x1=\"115\" y1=\"14\" x2=\"115\" y2=\"134\" />\n",
       "  <line x1=\"116\" y1=\"14\" x2=\"116\" y2=\"134\" />\n",
       "  <line x1=\"118\" y1=\"14\" x2=\"118\" y2=\"134\" />\n",
       "  <line x1=\"120\" y1=\"14\" x2=\"120\" y2=\"134\" />\n",
       "  <line x1=\"122\" y1=\"14\" x2=\"122\" y2=\"134\" />\n",
       "  <line x1=\"123\" y1=\"14\" x2=\"123\" y2=\"134\" />\n",
       "  <line x1=\"125\" y1=\"14\" x2=\"125\" y2=\"134\" />\n",
       "  <line x1=\"127\" y1=\"14\" x2=\"127\" y2=\"134\" />\n",
       "  <line x1=\"129\" y1=\"14\" x2=\"129\" y2=\"134\" />\n",
       "  <line x1=\"131\" y1=\"14\" x2=\"131\" y2=\"134\" />\n",
       "  <line x1=\"132\" y1=\"14\" x2=\"132\" y2=\"134\" />\n",
       "  <line x1=\"134\" y1=\"14\" x2=\"134\" y2=\"134\" />\n",
       "  <line x1=\"136\" y1=\"14\" x2=\"136\" y2=\"134\" />\n",
       "  <line x1=\"138\" y1=\"14\" x2=\"138\" y2=\"134\" />\n",
       "  <line x1=\"140\" y1=\"14\" x2=\"140\" y2=\"134\" />\n",
       "  <line x1=\"141\" y1=\"14\" x2=\"141\" y2=\"134\" />\n",
       "  <line x1=\"143\" y1=\"14\" x2=\"143\" y2=\"134\" />\n",
       "  <line x1=\"145\" y1=\"14\" x2=\"145\" y2=\"134\" />\n",
       "  <line x1=\"147\" y1=\"14\" x2=\"147\" y2=\"134\" />\n",
       "  <line x1=\"148\" y1=\"14\" x2=\"148\" y2=\"134\" />\n",
       "  <line x1=\"151\" y1=\"14\" x2=\"151\" y2=\"134\" />\n",
       "  <line x1=\"152\" y1=\"14\" x2=\"152\" y2=\"134\" />\n",
       "  <line x1=\"153\" y1=\"14\" x2=\"153\" y2=\"134\" />\n",
       "  <line x1=\"156\" y1=\"14\" x2=\"156\" y2=\"134\" />\n",
       "  <line x1=\"157\" y1=\"14\" x2=\"157\" y2=\"134\" />\n",
       "  <line x1=\"159\" y1=\"14\" x2=\"159\" y2=\"134\" />\n",
       "  <line x1=\"161\" y1=\"14\" x2=\"161\" y2=\"134\" />\n",
       "  <line x1=\"163\" y1=\"14\" x2=\"163\" y2=\"134\" />\n",
       "  <line x1=\"164\" y1=\"14\" x2=\"164\" y2=\"134\" />\n",
       "  <line x1=\"166\" y1=\"14\" x2=\"166\" y2=\"134\" style=\"stroke-width:2\" />\n",
       "\n",
       "  <!-- Colored Rectangle -->\n",
       "  <polygon points=\"109.9485979497544,14.948597949754403 166.82933189470853,14.948597949754403 166.82933189470853,134.9485979497544 109.9485979497544,134.9485979497544\" style=\"fill:#8B4903A0;stroke-width:0\"/>\n",
       "\n",
       "  <!-- Text -->\n",
       "  <text x=\"138.388965\" y=\"154.948598\" font-size=\"1.0rem\" font-weight=\"100\" text-anchor=\"middle\" >79360</text>\n",
       "  <text x=\"186.829332\" y=\"74.948598\" font-size=\"1.0rem\" font-weight=\"100\" text-anchor=\"middle\" transform=\"rotate(-90,186.829332,74.948598)\">167424</text>\n",
       "  <text x=\"92.474299\" y=\"147.474299\" font-size=\"1.0rem\" font-weight=\"100\" text-anchor=\"middle\" transform=\"rotate(45,92.474299,147.474299)\">1</text>\n",
       "</svg>\n",
       "</td>\n",
       "</tr>\n",
       "</table>"
      ],
      "text/plain": [
       "dask.array<view, shape=(1, 1, 1, 167424, 79360), dtype=>u2, chunksize=(1, 1, 1, 1024, 1024), chunktype=numpy.ndarray>"
      ]
     },
     "execution_count": 1,
     "metadata": {},
     "output_type": "execute_result"
    }
   ],
   "source": [
    "import dask.array as da\n",
    "z = da.from_zarr(\"https://s3.embassy.ebi.ac.uk/idr/zarr/v0.1/9822151.zarr/0\")\n",
    "z.view()"
   ]
  },
  {
   "cell_type": "code",
   "execution_count": 9,
   "id": "3e58c48c",
   "metadata": {
    "scrolled": true
   },
   "outputs": [
    {
     "data": {
      "text/html": [
       "<table>\n",
       "<tr>\n",
       "<td>\n",
       "<table>\n",
       "  <thead>\n",
       "    <tr><td> </td><th> Array </th><th> Chunk </th></tr>\n",
       "  </thead>\n",
       "  <tbody>\n",
       "    <tr><th> Bytes </th><td> 6.19 MiB </td> <td> 2.00 MiB </td></tr>\n",
       "    <tr><th> Shape </th><td> (1, 1, 1, 2616, 1240) </td> <td> (1, 1, 1, 1024, 1024) </td></tr>\n",
       "    <tr><th> Count </th><td> 13 Tasks </td><td> 6 Chunks </td></tr>\n",
       "    <tr><th> Type </th><td> >u2 </td><td> numpy.ndarray </td></tr>\n",
       "  </tbody>\n",
       "</table>\n",
       "</td>\n",
       "<td>\n",
       "<svg width=\"311\" height=\"184\" style=\"stroke:rgb(0,0,0);stroke-width:1\" >\n",
       "\n",
       "  <!-- Horizontal lines -->\n",
       "  <line x1=\"0\" y1=\"0\" x2=\"25\" y2=\"0\" style=\"stroke-width:2\" />\n",
       "  <line x1=\"0\" y1=\"25\" x2=\"25\" y2=\"25\" style=\"stroke-width:2\" />\n",
       "\n",
       "  <!-- Vertical lines -->\n",
       "  <line x1=\"0\" y1=\"0\" x2=\"0\" y2=\"25\" style=\"stroke-width:2\" />\n",
       "  <line x1=\"25\" y1=\"0\" x2=\"25\" y2=\"25\" style=\"stroke-width:2\" />\n",
       "\n",
       "  <!-- Colored Rectangle -->\n",
       "  <polygon points=\"0.0,0.0 25.412616514582485,0.0 25.412616514582485,25.412616514582485 0.0,25.412616514582485\" style=\"fill:#ECB172A0;stroke-width:0\"/>\n",
       "\n",
       "  <!-- Text -->\n",
       "  <text x=\"12.706308\" y=\"45.412617\" font-size=\"1.0rem\" font-weight=\"100\" text-anchor=\"middle\" >1</text>\n",
       "  <text x=\"45.412617\" y=\"12.706308\" font-size=\"1.0rem\" font-weight=\"100\" text-anchor=\"middle\" transform=\"rotate(0,45.412617,12.706308)\">1</text>\n",
       "\n",
       "\n",
       "  <!-- Horizontal lines -->\n",
       "  <line x1=\"95\" y1=\"0\" x2=\"109\" y2=\"14\" style=\"stroke-width:2\" />\n",
       "  <line x1=\"95\" y1=\"46\" x2=\"109\" y2=\"61\" />\n",
       "  <line x1=\"95\" y1=\"93\" x2=\"109\" y2=\"108\" />\n",
       "  <line x1=\"95\" y1=\"120\" x2=\"109\" y2=\"134\" style=\"stroke-width:2\" />\n",
       "\n",
       "  <!-- Vertical lines -->\n",
       "  <line x1=\"95\" y1=\"0\" x2=\"95\" y2=\"120\" style=\"stroke-width:2\" />\n",
       "  <line x1=\"109\" y1=\"14\" x2=\"109\" y2=\"134\" style=\"stroke-width:2\" />\n",
       "\n",
       "  <!-- Colored Rectangle -->\n",
       "  <polygon points=\"95.0,0.0 109.9485979497544,14.948597949754403 109.9485979497544,134.9485979497544 95.0,120.0\" style=\"fill:#ECB172A0;stroke-width:0\"/>\n",
       "\n",
       "  <!-- Horizontal lines -->\n",
       "  <line x1=\"95\" y1=\"0\" x2=\"151\" y2=\"0\" style=\"stroke-width:2\" />\n",
       "  <line x1=\"109\" y1=\"14\" x2=\"166\" y2=\"14\" style=\"stroke-width:2\" />\n",
       "\n",
       "  <!-- Vertical lines -->\n",
       "  <line x1=\"95\" y1=\"0\" x2=\"109\" y2=\"14\" style=\"stroke-width:2\" />\n",
       "  <line x1=\"141\" y1=\"0\" x2=\"156\" y2=\"14\" />\n",
       "  <line x1=\"151\" y1=\"0\" x2=\"166\" y2=\"14\" style=\"stroke-width:2\" />\n",
       "\n",
       "  <!-- Colored Rectangle -->\n",
       "  <polygon points=\"95.0,0.0 151.88073394495413,0.0 166.82933189470853,14.948597949754403 109.9485979497544,14.948597949754403\" style=\"fill:#ECB172A0;stroke-width:0\"/>\n",
       "\n",
       "  <!-- Horizontal lines -->\n",
       "  <line x1=\"109\" y1=\"14\" x2=\"166\" y2=\"14\" style=\"stroke-width:2\" />\n",
       "  <line x1=\"109\" y1=\"61\" x2=\"166\" y2=\"61\" />\n",
       "  <line x1=\"109\" y1=\"108\" x2=\"166\" y2=\"108\" />\n",
       "  <line x1=\"109\" y1=\"134\" x2=\"166\" y2=\"134\" style=\"stroke-width:2\" />\n",
       "\n",
       "  <!-- Vertical lines -->\n",
       "  <line x1=\"109\" y1=\"14\" x2=\"109\" y2=\"134\" style=\"stroke-width:2\" />\n",
       "  <line x1=\"156\" y1=\"14\" x2=\"156\" y2=\"134\" />\n",
       "  <line x1=\"166\" y1=\"14\" x2=\"166\" y2=\"134\" style=\"stroke-width:2\" />\n",
       "\n",
       "  <!-- Colored Rectangle -->\n",
       "  <polygon points=\"109.9485979497544,14.948597949754403 166.82933189470853,14.948597949754403 166.82933189470853,134.9485979497544 109.9485979497544,134.9485979497544\" style=\"fill:#ECB172A0;stroke-width:0\"/>\n",
       "\n",
       "  <!-- Text -->\n",
       "  <text x=\"138.388965\" y=\"154.948598\" font-size=\"1.0rem\" font-weight=\"100\" text-anchor=\"middle\" >1240</text>\n",
       "  <text x=\"186.829332\" y=\"74.948598\" font-size=\"1.0rem\" font-weight=\"100\" text-anchor=\"middle\" transform=\"rotate(-90,186.829332,74.948598)\">2616</text>\n",
       "  <text x=\"92.474299\" y=\"147.474299\" font-size=\"1.0rem\" font-weight=\"100\" text-anchor=\"middle\" transform=\"rotate(45,92.474299,147.474299)\">1</text>\n",
       "</svg>\n",
       "</td>\n",
       "</tr>\n",
       "</table>"
      ],
      "text/plain": [
       "dask.array<view, shape=(1, 1, 1, 2616, 1240), dtype=>u2, chunksize=(1, 1, 1, 1024, 1024), chunktype=numpy.ndarray>"
      ]
     },
     "execution_count": 9,
     "metadata": {},
     "output_type": "execute_result"
    }
   ],
   "source": [
    "from IPython.display import Image\n",
    "z = da.from_zarr(\"https://s3.embassy.ebi.ac.uk/idr/zarr/v0.1/9822151.zarr/6\")\n",
    "z.view()"
   ]
  },
  {
   "cell_type": "code",
   "execution_count": 10,
   "id": "4e47fddf",
   "metadata": {},
   "outputs": [
    {
     "data": {
      "image/png": "[encoded data removed]",
      "text/plain": [
       "<IPython.core.display.Image object>"
      ]
     },
     "metadata": {},
     "output_type": "display_data"
    }
   ],
   "source": [
    "z.visualize(\"/tmp/dask.png\")\n",
    "display(Image(\"/tmp/dask.png\"))"
   ]
  },
  {
   "cell_type": "markdown",
   "id": "dee9a9aa",
   "metadata": {},
   "source": [
    "## Vizarr & ImJoy"
   ]
  },
  {
   "cell_type": "code",
   "execution_count": 1,
   "id": "cb731ead",
   "metadata": {
    "slideshow": {
     "slide_type": "slide"
    }
   },
   "outputs": [
    {
     "ename": "ModuleNotFoundError",
     "evalue": "No module named 'imjoy'",
     "output_type": "error",
     "traceback": [
      "\u001b[0;31m---------------------------------------------------------------------------\u001b[0m",
      "\u001b[0;31mModuleNotFoundError\u001b[0m                       Traceback (most recent call last)",
      "\u001b[0;32m<ipython-input-1-0682e91d594a>\u001b[0m in \u001b[0;36m<module>\u001b[0;34m\u001b[0m\n\u001b[1;32m      9\u001b[0m \u001b[0mz_grp\u001b[0m \u001b[0;34m=\u001b[0m \u001b[0mzarr\u001b[0m\u001b[0;34m.\u001b[0m\u001b[0mopen\u001b[0m\u001b[0;34m(\u001b[0m\u001b[0mstore\u001b[0m\u001b[0;34m,\u001b[0m \u001b[0mmode\u001b[0m\u001b[0;34m=\u001b[0m\u001b[0;34m'r'\u001b[0m\u001b[0;34m)\u001b[0m\u001b[0;34m\u001b[0m\u001b[0;34m\u001b[0m\u001b[0m\n\u001b[1;32m     10\u001b[0m \u001b[0;34m\u001b[0m\u001b[0m\n\u001b[0;32m---> 11\u001b[0;31m \u001b[0;32mfrom\u001b[0m \u001b[0mimjoy_plugin\u001b[0m \u001b[0;32mimport\u001b[0m \u001b[0mrun_vizarr\u001b[0m\u001b[0;34m\u001b[0m\u001b[0;34m\u001b[0m\u001b[0m\n\u001b[0m\u001b[1;32m     12\u001b[0m \u001b[0mrun_vizarr\u001b[0m\u001b[0;34m(\u001b[0m\u001b[0;34m{\u001b[0m \u001b[0;34m\"source\"\u001b[0m\u001b[0;34m:\u001b[0m \u001b[0mz_grp\u001b[0m \u001b[0;34m}\u001b[0m\u001b[0;34m)\u001b[0m\u001b[0;34m\u001b[0m\u001b[0;34m\u001b[0m\u001b[0m\n",
      "\u001b[0;32m/opt/NGFF-ELMI-2021-Workshop/imjoy_plugin.py\u001b[0m in \u001b[0;36m<module>\u001b[0;34m\u001b[0m\n\u001b[0;32m----> 1\u001b[0;31m \u001b[0;32mfrom\u001b[0m \u001b[0mimjoy\u001b[0m \u001b[0;32mimport\u001b[0m \u001b[0mapi\u001b[0m\u001b[0;34m\u001b[0m\u001b[0;34m\u001b[0m\u001b[0m\n\u001b[0m\u001b[1;32m      2\u001b[0m \u001b[0;32mimport\u001b[0m \u001b[0mzarr\u001b[0m\u001b[0;34m\u001b[0m\u001b[0;34m\u001b[0m\u001b[0m\n\u001b[1;32m      3\u001b[0m \u001b[0;34m\u001b[0m\u001b[0m\n\u001b[1;32m      4\u001b[0m \u001b[0;34m\u001b[0m\u001b[0m\n\u001b[1;32m      5\u001b[0m \u001b[0;32mdef\u001b[0m \u001b[0mencode_zarr_store\u001b[0m\u001b[0;34m(\u001b[0m\u001b[0mzobj\u001b[0m\u001b[0;34m)\u001b[0m\u001b[0;34m:\u001b[0m\u001b[0;34m\u001b[0m\u001b[0;34m\u001b[0m\u001b[0m\n",
      "\u001b[0;31mModuleNotFoundError\u001b[0m: No module named 'imjoy'"
     ]
    }
   ],
   "source": [
    "# Example copied from: https://github.com/hms-dbmi/vizarr/blob/main/example/IDR_example.ipynb\n",
    "\n",
    "from fsspec import get_mapper\n",
    "import zarr\n",
    "\n",
    "# Create a remote mapping to the data\n",
    "url = \"https://s3.embassy.ebi.ac.uk/idr/zarr/v0.1/9822151.zarr/\"\n",
    "store = get_mapper(url)\n",
    "z_grp = zarr.open(store, mode='r')\n",
    "\n",
    "from imjoy_plugin import run_vizarr\n",
    "run_vizarr({ \"source\": z_grp })"
   ]
  },
  {
   "cell_type": "markdown",
   "id": "1af517a5",
   "metadata": {},
   "source": [
    "## 1.4 Introduction to Zarr and OME-Zarr\n",
    "\n",
    "Zarr is a format for the storage of chunked, compressed, N-dimensional arrays.\n",
    "Arrays can be organised into hierarchical groups with associated metadata. We are working on [OME-zarr](https://ngff.openmicroscopy.org/), a specification for how to represent Images, HCS Plates, ROIs and other data in Zarr format\n",
    "\n",
    "\n",
    "### Arrays\n",
    "\n",
    "Zarr arrays are stored as a directory that contains binary 'chunks' of data and a JSON file `.zarray` that specifies the chunks metadata. For example: \n",
    "\n",
    "```\n",
    "# .zarray\n",
    "{\n",
    "    \"chunks\": [\n",
    "        1,\n",
    "        1,\n",
    "        1,\n",
    "        256,\n",
    "        336\n",
    "    ],\n",
    "    \"compressor\": {\n",
    "        \"blocksize\": 0,\n",
    "        \"clevel\": 5,\n",
    "        \"cname\": \"lz4\",\n",
    "        \"id\": \"blosc\",\n",
    "        \"shuffle\": 1\n",
    "    },\n",
    "    \"dtype\": \"<i8\",\n",
    "    \"fill_value\": 0,\n",
    "    \"filters\": null,\n",
    "    \"order\": \"C\",\n",
    "    \"shape\": [\n",
    "        1,\n",
    "        1,\n",
    "        1,\n",
    "        1024,\n",
    "        1344\n",
    "    ],\n",
    "    \"zarr_format\": 2\n",
    "}\n",
    "```\n",
    "Chunks are named according to their index in the N-dimensional array. For example, in the 5D array above, chunks would be named:\n",
    "\n",
    "```\n",
    "# chunks of 5D array\n",
    "0.0.0.0.0\n",
    "0.0.0.0.1\n",
    "0.0.0.0.2\n",
    "0.0.0.0.3\n",
    "0.0.0.1.0\n",
    "0.0.0.1.1\n",
    "...\n",
    "```\n",
    "\n",
    "## Groups\n",
    "\n",
    "Zarr groups are directories that contain arrays or other groups, and a JSON file `.zattrs` that contains data about the group and it's contents.\n"
   ]
  },
  {
   "cell_type": "markdown",
   "id": "5961b2a3",
   "metadata": {},
   "source": [
    "# OME zarr\n",
    "\n",
    "## Images\n",
    "\n",
    "In OME zarr, Images are represented by a group with `multiscales` metadata. It may also contain `omero` metadata if available. The `multiscales` section will list 1 or more multiscale `datasets`, with a `path` to each zarr 5D `array` at different resolutions. Array dimensions are Time, Channel, Z, Y, X (`t.c.z.y.x`).\n",
    "\n",
    "```\n",
    "# image.zarr/.zattrs\n",
    "{\n",
    "    \"multiscales\": [\n",
    "        {\n",
    "            \"datasets\": [\n",
    "                {\n",
    "                    \"path\": \"0\"             # Path to Array containing full-size Image\n",
    "                },\n",
    "                {\n",
    "                    \"path\": \"1\"             # Path to Array containing sub-resolution Image\n",
    "                },\n",
    "                {\n",
    "                    \"path\": \"2\"             # Path to Array containing sub-resolution Image\n",
    "                }\n",
    "            ],\n",
    "            \"version\": \"0.1\"\n",
    "        }\n",
    "    ],\n",
    "    \"omero\": {\n",
    "        \"channels\": [\n",
    "            {\n",
    "                \"active\": true,\n",
    "                \"coefficient\": 1.0,\n",
    "                \"color\": \"0000FF\",\n",
    "                \"family\": \"linear\",\n",
    "                \"inverted\": false,\n",
    "                \"label\": \"DAPI\",\n",
    "                \"window\": {\n",
    "                    \"end\": 1500.0,\n",
    "                    \"max\": 65535.0,\n",
    "                    \"min\": 0.0,\n",
    "                    \"start\": 0.0\n",
    "                }\n",
    "            }\n",
    "        ],\n",
    "        \"id\": 1,\n",
    "        \"rdefs\": {\n",
    "            \"defaultT\": 0,\n",
    "            \"defaultZ\": 0,\n",
    "            \"model\": \"color\"\n",
    "        }\n",
    "    }\n",
    "}\n",
    "```\n",
    "\n",
    "Each Image array is found under the specified `path`, e.g. for `\"path\": \"0\"`:\n",
    "\n",
    "```\n",
    "# image.zarr/0/\n",
    ".zarray\n",
    "0.0.0.0.0\n",
    "0.0.0.0.1\n",
    "0.0.0.1.0\n",
    "0.0.0.1.1\n",
    "...\n",
    "```"
   ]
  },
  {
   "cell_type": "markdown",
   "id": "dd011786",
   "metadata": {},
   "source": [
    "## Loading sample OME zarr Images\n",
    "\n",
    "A list of example Images (from the IDR), converted to `OME zarr` and hosted at https://s3.embassy.ebi.ac.uk is available at https://blog.openmicroscopy.org/file-formats/community/2020/11/04/zarr-data/. You can 'copy' links to Images from the table."
   ]
  },
  {
   "cell_type": "code",
   "execution_count": null,
   "id": "527690a4",
   "metadata": {},
   "outputs": [],
   "source": [
    "import dask.array as da\n",
    "import numpy as np\n",
    "from IPython.display import display, Image\n",
    "from matplotlib import pyplot as plt\n",
    "import requests\n",
    "import zarr"
   ]
  },
  {
   "cell_type": "code",
   "execution_count": null,
   "id": "8bbfdad8",
   "metadata": {},
   "outputs": [],
   "source": [
    "imagepath = \"https://s3.embassy.ebi.ac.uk/idr/zarr/v0.1/9822151.zarr\""
   ]
  },
  {
   "cell_type": "code",
   "execution_count": null,
   "id": "353a4bcd",
   "metadata": {
    "scrolled": false
   },
   "outputs": [],
   "source": [
    "# Load the top-level .zattrs Image metadata\n",
    "zattrs = requests.get(f'{imagepath}/.zattrs').json()\n",
    "# Get the path for each resolution of the first multiscale dataset  \n",
    "resolutions = [d['path'] for d in zattrs['multiscales'][0]['datasets']]\n",
    "\n",
    "darrays = []\n",
    "for resolution in resolutions:\n",
    "    print(f'Resolution: \"{resolution}\"')\n",
    "    # Create a 'dask' array (like numpy array but with lazy loading of data)\n",
    "    array_5d = da.from_zarr(f'{imagepath}/{resolution}')\n",
    "    darrays.append(array_5d)\n",
    "    display(array_5d)"
   ]
  },
  {
   "cell_type": "markdown",
   "id": "56e3e9d4",
   "metadata": {},
   "source": [
    "Display the smallest resolution image. In this image `T`, `C`, `Z` are all singleton dimensions"
   ]
  },
  {
   "cell_type": "code",
   "execution_count": null,
   "id": "5681c3c5",
   "metadata": {},
   "outputs": [],
   "source": [
    "array_5d = darrays[-1]\n",
    "array_2d = array_5d[0, 0, 0, :, :]\n",
    "print(array_2d.shape)\n",
    "plt.figure(figsize=(10, 10))\n",
    "plt.imshow(array_2d, cmap='gray')"
   ]
  },
  {
   "cell_type": "markdown",
   "id": "cad08b53",
   "metadata": {},
   "source": [
    "As you can see it very low resolution, so let's look at the 3rd smallest resolution instead."
   ]
  },
  {
   "cell_type": "code",
   "execution_count": null,
   "id": "a01cd31d",
   "metadata": {},
   "outputs": [],
   "source": [
    "array_5d = darrays[-3]\n",
    "array_2d = array_5d[0, 0, 0, :, :]\n",
    "print(array_2d.shape)\n",
    "plt.figure(figsize=(10, 10))\n",
    "plt.imshow(array_2d, cmap='gray')"
   ]
  },
  {
   "cell_type": "markdown",
   "id": "dcb3479b",
   "metadata": {},
   "source": [
    "Now \"zoom in\" to the centre of image by showing the same number of pixels but at the next resolution up"
   ]
  },
  {
   "cell_type": "code",
   "execution_count": null,
   "id": "97f8de2f",
   "metadata": {
    "scrolled": true
   },
   "outputs": [],
   "source": [
    "# size of the region we want to show\n",
    "rwidth = 500\n",
    "rheight = 300\n",
    "\n",
    "# load a region for each level, from smallest to largest \n",
    "levels = range(len(darrays))\n",
    "for level in reversed(levels):\n",
    "    array_5d = darrays[level]\n",
    "    array_2d = array_5d[0, 0, 0, :, :]\n",
    "    # We want to show the centre-point of each level\n",
    "    cy, cx = int(array_2d.shape[0] / 2), int(array_2d.shape[1] / 2)\n",
    "    print(f'resolution: {level}, cy: {cy}, cx: {cx}')\n",
    "    # Crop the dask array - still doesn't load remote data yet\n",
    "    y1 = cy - (rheight/2)\n",
    "    y2 = cy + (rheight/2)\n",
    "    x1 = cx - (rwidth/2)\n",
    "    x2 = cx + (rwidth/2)\n",
    "    region = array_2d[y1:y2, x1:x2]\n",
    "    plt.figure(figsize=(10, 10))\n",
    "    # Show the image - loading remote data\n",
    "    plt.imshow(region, cmap='gray')\n",
    "    plt.title(level)\n",
    "    plt.show()"
   ]
  },
  {
   "cell_type": "markdown",
   "id": "44abac6d",
   "metadata": {},
   "source": [
    "## Labels\n",
    "\n",
    "Labels (or Masks) are pixel-based Regions of Interest, such as image segmentations. In OME zarr, labels are stored in a `labels` directory within the image.zarr directory. Labels are 5D zarr arrays corresponding to the shape of the parent image, with background values of `0` and each label represented by a different pixel value.\n",
    "\n",
    "Multiple `arrays` of labels can be stored under the labels group, as defined in the `labels/.zattrs` JSON:\n",
    "\n",
    "```\n",
    "# image.zarr/labels/.zattrs\n",
    "\n",
    "{\n",
    "    \"labels\": [\n",
    "        \"0\"\n",
    "    ]\n",
    "}\n",
    "```\n",
    "\n",
    "This indicates a labels array at `image.zarr/labels/0/`.\n",
    "\n",
    "\n"
   ]
  },
  {
   "cell_type": "code",
   "execution_count": null,
   "id": "2b3523e8",
   "metadata": {},
   "outputs": [],
   "source": [
    "imagepath = 'https://s3.embassy.ebi.ac.uk/idr/zarr/v0.1/plates/2551.zarr/A/1/0'\n",
    "zattrs = requests.get(f'{imagepath}/labels/.zattrs').json()\n",
    "print('zattrs', zattrs)\n",
    "\n",
    "label_path = zattrs['labels'][0]\n",
    "labels_metadata = requests.get(f'{imagepath}/labels/{label_path}/.zattrs').json()\n",
    "print('labels multiscales', labels_metadata['multiscales'])"
   ]
  },
  {
   "cell_type": "code",
   "execution_count": null,
   "id": "4e39b088",
   "metadata": {},
   "outputs": [],
   "source": [
    "# As for 'image' we have a pyramid of 'multiscales' arrays\n",
    "res = [d['path'] for d in labels_metadata['multiscales'][0]['datasets']]\n",
    "labels_5d = da.from_zarr(f'{imagepath}/labels/{label_path}/{res[0]}')\n",
    "labels_2d = labels_5d[0, 0, 0, :, :]\n",
    "\n",
    "# load the dask array, so we can find max and min\n",
    "labels_2d = labels_2d.compute()\n",
    "max_value = labels_2d.max()\n",
    "min_value = labels_2d[labels_2d > 0].min()   # min() ignoring 0 values\n",
    "print(f'min_value: {min_value}, max_value: {max_value}')\n",
    "\n",
    "# Render, scaling gray from min to max\n",
    "plt.figure(figsize=(10, 10))\n",
    "plt.imshow(labels_2d, cmap='gray', vmin=min_value, vmax=max_value)\n",
    "plt.show()"
   ]
  },
  {
   "cell_type": "markdown",
   "id": "49cd1b6c",
   "metadata": {},
   "source": [
    "Labels metadata\n",
    "\n",
    "Metadata for labels can be stored within an `image-label` object in each labels `.zattrs`. The labels are identified by the `label-value`, which is the pixel value of the corresponding label. Currently the defined keys are `colors` and `properties`, which may be used for storing custom properties for each label:\n",
    "\n",
    "```\n",
    "# image.zarr/labels/0/.zattrs\n",
    "\n",
    "{\n",
    "  \"multiscales\": [\n",
    "    # as for images above\n",
    "  ],\n",
    "  \"image-label\":\n",
    "    {\n",
    "      \"version\": \"0.1\",\n",
    "      \"colors\": [\n",
    "        {\n",
    "          \"label-value\": 732780,\n",
    "          \"rgba\": [255, 255, 255, 0]\n",
    "        },\n",
    "        {\n",
    "          \"label-value\": 732781,\n",
    "          \"rgba\": [0, 255, 255, 128]\n",
    "        },\n",
    "        ...\n",
    "        ]\n",
    "      },\n",
    "      \"properties\": [\n",
    "        {\n",
    "          \"label-value\": 732780,\n",
    "          \"text\": \"nucleus 1\",\n",
    "          \"GFP intensity\": 456.5\n",
    "        },\n",
    "        {\n",
    "          \"label-value\": 732781,\n",
    "          \"text\": \"nucleas 2\",\n",
    "          \"GFP intensity\": 678.0\n",
    "        },\n",
    "        ...\n",
    "        ]\n",
    "      },\n",
    "      \"source\": {\n",
    "        \"image\": \"../../\"\n",
    "      }\n",
    "    }\n",
    "}\n",
    "\n",
    "```"
   ]
  },
  {
   "cell_type": "markdown",
   "id": "68f8cca2",
   "metadata": {},
   "source": [
    "## Plates - HCS Data\n",
    "\n",
    "A Plate is a collection of Images with 1 or more Images (fields) in a Well into rows and columns. In OME-Zarr, this is represented as a hierarchy of groups: `plate/row_name/column_name/field_index/`.\n",
    "\n",
    "The `.zattrs` at the top level will contain `plate` metadata to specify the row and column names and the wells in the plate (not every row/column position may contain a well):\n",
    "\n",
    "```\n",
    "# plate/.attrs\n",
    "\n",
    "{\n",
    "  \"plate\": {\n",
    "    \"name\": \"plate-name\",\n",
    "    \"rows\": [\n",
    "        {\n",
    "            \"name\": \"A\"\n",
    "        },\n",
    "        {\n",
    "            \"name\": \"B\"\n",
    "        }\n",
    "    ],\n",
    "    \"columns\": [\n",
    "        {\n",
    "            \"name\": \"1\"\n",
    "        },\n",
    "        {\n",
    "            \"name\": \"2\"\n",
    "        },\n",
    "        {\n",
    "            \"name\": \"3\"\n",
    "        }\n",
    "    ],\n",
    "    \"field_count\": 4,\n",
    "    \"version\": \"0.1\",\n",
    "    \"wells\": [\n",
    "        {\n",
    "            \"path\": \"A/1\"\n",
    "        },\n",
    "        {\n",
    "            \"path\": \"A/2\"\n",
    "        },\n",
    "        {\n",
    "            \"path\": \"B/1\"\n",
    "        },\n",
    "        {\n",
    "            \"path\": \"B/3\"\n",
    "        }\n",
    "    ]\n",
    "  }\n",
    "}\n",
    "\n",
    "```\n",
    "\n"
   ]
  },
  {
   "cell_type": "markdown",
   "id": "e71cbd65",
   "metadata": {},
   "source": [
    "Sample HCS plates in OME-Zarr format are listed at https://blog.openmicroscopy.org/file-formats/community/2020/12/01/zarr-hcs/   "
   ]
  },
  {
   "cell_type": "code",
   "execution_count": null,
   "id": "e874d28d",
   "metadata": {},
   "outputs": [],
   "source": [
    "plate_url = \"https://s3.embassy.ebi.ac.uk/idr/zarr/v0.1/plates/422.zarr\"\n",
    "# Alternative plate\n",
    "# plate_url = \"https://s3.embassy.ebi.ac.uk/idr/zarr/v0.1/plates/2551.zarr\"\n",
    "\n",
    "# Load the top-level .zattrs Plate metadata\n",
    "zattrs = requests.get(f'{plate_url}/.zattrs').json()\n",
    "plate_metadata = zattrs['plate']\n",
    "# Get the path to each well - NB: May not be sorted yet\n",
    "well_paths = [w['path'] for w in plate_metadata['wells']]\n",
    "well_paths.sort()\n",
    "print(well_paths)"
   ]
  },
  {
   "cell_type": "code",
   "execution_count": null,
   "id": "43c0caba",
   "metadata": {},
   "outputs": [],
   "source": [
    "# We can assume at least 1 field (image) in each well\n",
    "field = '0'\n",
    "# Load metadata for first Well\n",
    "image_metadata = requests.get(f'{plate_url}/{well_paths[0]}/{field}/.zattrs').json()\n",
    "resolutions = [d['path'] for d in image_metadata['multiscales'][0]['datasets']]\n",
    "\n",
    "# Show the lowest resolution, first ZCT plane of first 5 Wells\n",
    "Z, C, T = (0, 0, 0)\n",
    "resolution = resolutions[-1]\n",
    "for path in well_paths[0:5]:\n",
    "    print(f'{plate_url}/{path}/{field}/{resolution}')\n",
    "    data_5d = da.from_zarr(f'{plate_url}/{path}/{field}/{resolution}')\n",
    "    print('data_5d.shape', data_5d.shape)\n",
    "    first_plane = data_5d[T, C, Z, :, :]\n",
    "    plt.figure(figsize=(4, 4))\n",
    "    plt.title(path)\n",
    "    plt.imshow(first_plane, cmap='gray')"
   ]
  },
  {
   "cell_type": "markdown",
   "id": "d281610a",
   "metadata": {
    "collapsed": true
   },
   "source": [
    "### License (BSD 2-Clause)\n",
    "\n",
    "Copyright (c) 2021, University of Dundee All rights reserved.\n",
    "\n",
    "Redistribution and use in source and binary forms, with or without modification, are permitted provided that the following conditions are met:\n",
    "\n",
    "Redistributions of source code must retain the above copyright notice, this list of conditions and the following disclaimer.\n",
    "Redistributions in binary form must reproduce the above copyright notice, this list of conditions and the following disclaimer in the documentation and/or other materials provided with the distribution.\n",
    "THIS SOFTWARE IS PROVIDED BY THE COPYRIGHT HOLDERS AND CONTRIBUTORS \"AS IS\" AND ANY EXPRESS OR IMPLIED WARRANTIES, INCLUDING, BUT NOT LIMITED TO, THE IMPLIED WARRANTIES OF MERCHANTABILITY AND FITNESS FOR A PARTICULAR PURPOSE ARE DISCLAIMED. IN NO EVENT SHALL THE COPYRIGHT OWNER OR CONTRIBUTORS BE LIABLE FOR ANY DIRECT, INDIRECT, INCIDENTAL, SPECIAL, EXEMPLARY, OR CONSEQUENTIAL DAMAGES (INCLUDING, BUT NOT LIMITED TO, PROCUREMENT OF SUBSTITUTE GOODS OR SERVICES; LOSS OF USE, DATA, OR PROFITS; OR BUSINESS INTERRUPTION) HOWEVER CAUSED AND ON ANY THEORY OF LIABILITY, WHETHER IN CONTRACT, STRICT LIABILITY, OR TORT (INCLUDING NEGLIGENCE OR OTHERWISE) ARISING IN ANY WAY OUT OF THE USE OF THIS SOFTWARE, EVEN IF ADVISED OF THE POSSIBILITY OF SUCH DAMAGE."
   ]
  }
 ],
 "metadata": {
  "kernelspec": {
   "display_name": "Python 3",
   "language": "python",
   "name": "python3"
  },
  "language_info": {
   "codemirror_mode": {
    "name": "ipython",
    "version": 3
   },
   "file_extension": ".py",
   "mimetype": "text/x-python",
   "name": "python",
   "nbconvert_exporter": "python",
   "pygments_lexer": "ipython3",
   "version": "3.9.0"
  }
 },
 "nbformat": 4,
 "nbformat_minor": 5
}
