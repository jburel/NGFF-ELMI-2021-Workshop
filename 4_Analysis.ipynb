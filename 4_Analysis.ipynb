{
 "cells": [
  {
   "cell_type": "markdown",
   "id": "bizarre-whole",
   "metadata": {},
   "source": [
    "# 4. Analysis an image from the IDR (practical)\n",
    "\n",
    "***\n",
    "\n",
    "**ELMI 2021 NGFF Workshop**, 25 June 2021\n",
    "\n",
    "***\n",
    "\n",
    "## Summary\n",
    "\n",
    "* 4.1 Analyze data in parallel using [Dask](https://dask.org/)\n",
    "* 4.2 Analyze data in [ilastik](https://www.ilastik.org/)\n",
    "* 4.3 Analyze data in [CellProfiler](https://cellprofiler.org/)\n",
    "* 4.4 Analyze data in [Python ImageJ](https://pypi.org/project/pyimagej/)"
   ]
  },
  {
   "cell_type": "markdown",
   "id": "center-management",
   "metadata": {},
   "source": [
    "## 4.1. Analyze in parallel\n",
    "\n",
    "An interesting aspect of ome.zarr is that it is now fairly easy to run analysis in parallel on a subset of a \"remote Image\". In this case, we perform a segmentation on each 2D-plane in parallel using Dask.\n",
    "\n",
    "The guide [Analyze data stored in a public S3 repository in parallel](https://omero-guides.readthedocs.io/en/latest/python/docs/analyze_dask_s3.html) describes how to install the required dependencies, how to load the image and analyze the data.\n",
    "\n",
    "The `zarr-public-s3-segmentation-parallel.ipynb` notebook can be run on [mybinder](https://mybinder.org/v2/gh/ome/omero-guide-python/master?urlpath=notebooks%2Fnotebooks%2Fzarr-public-s3-segmentation-parallel.ipynb) or [Colab](https://colab.research.google.com/github/ome/omero-guide-python/blob/master/notebooks/zarr-public-s3-segmentation-parallel.ipynb).\n",
    "\n",
    "More notebooks and scripts are available at https://github.com/ome/omero-guide-python."
   ]
  },
  {
   "cell_type": "markdown",
   "id": "excellent-semiconductor",
   "metadata": {},
   "source": [
    "## 4.2. Analyze in ilastik \n",
    "\n",
    "It is also possible to run ilastik in parallel using its API and Dask See [Run ilastik in parallel](https://omero-guides.readthedocs.io/en/latest/ilastik/docs/ilastik_parallel.html)\n",
    "\n",
    "Another interesting aspect is that the \"remote Image\" or \"remote Vessel\" not only contain the raw data but also some masks (known as ``labels``) generated during analysis.\n",
    "In the notebook below, we run a pixels classification using [ilastik](https://www.ilastik.org/), and can quickly compare the results from ilastik run and the masks stored in the ome.zarr file.\n",
    "\n",
    "The `idr0062_pixel_classification_zarr.ipynb` notebook can be run on [mybinder](https://mybinder.org/v2/gh/ome/omero-guide-ilastik/master?urlpath=notebooks%2Fnotebooks%2Fidr0062_pixel_classification_zarr.ipynb).\n",
    "\n",
    "More notebooks and scripts are available at https://github.com/ome/omero-guide-ilastik."
   ]
  },
  {
   "cell_type": "markdown",
   "id": "offshore-drinking",
   "metadata": {},
   "source": [
    "## 4.3 Analyze in CellProfiler\n",
    "\n",
    "CellProfiler is popular tool written in Python. Once again you can analyse \"remote Image\" using CellProfiler.\n",
    "\n",
    "In `idr0002_zarr.ipynb`, the example pipeline [Cell/particle counting, and scoring the percentage of stained objects](http://cellprofiler.org/examples/#PercentPositive) is run \n",
    "on some images from IDR converted into ome.zarr.\n",
    "The notebook can be run on [mybinder](https://mybinder.org/v2/gh/ome/omero-guide-cellprofiler/master?urlpath=notebooks%2Fnotebooks%2Fidr0002_zarr.ipynb).\n",
    "\n",
    "More notebooks and scripts are available at https://github.com/ome/omero-guide-cellprofiler"
   ]
  },
  {
   "cell_type": "markdown",
   "id": "hourly-kennedy",
   "metadata": {},
   "source": [
    "## 4.4 Analyze ImageJ Python\n",
    "\n",
    "Load Zarr Image from a public S3 repository and use ImageJ as a Python library.\n",
    "\n",
    "The `imagej_python_zarr.ipynb` notebook can be run on [mybinder](https://mybinder.org/v2/gh/ome/omero-guide-fiji/master?urlpath=notebooks%2Fnotebooks%2Fimagej_python_zarr.ipynb).\n",
    "\n",
    "More notebooks and scripts are available at https://github.com/ome/omero-guide-fiji"
   ]
  },
  {
   "cell_type": "markdown",
   "id": "integral-dressing",
   "metadata": {},
   "source": [
    "### License (BSD 2-Clause)\n",
    "\n",
    "Copyright (c) 2021, University of Dundee All rights reserved.\n",
    "\n",
    "Redistribution and use in source and binary forms, with or without modification, are permitted provided that the following conditions are met:\n",
    "\n",
    "Redistributions of source code must retain the above copyright notice, this list of conditions and the following disclaimer.\n",
    "Redistributions in binary form must reproduce the above copyright notice, this list of conditions and the following disclaimer in the documentation and/or other materials provided with the distribution.\n",
    "THIS SOFTWARE IS PROVIDED BY THE COPYRIGHT HOLDERS AND CONTRIBUTORS \"AS IS\" AND ANY EXPRESS OR IMPLIED WARRANTIES, INCLUDING, BUT NOT LIMITED TO, THE IMPLIED WARRANTIES OF MERCHANTABILITY AND FITNESS FOR A PARTICULAR PURPOSE ARE DISCLAIMED. IN NO EVENT SHALL THE COPYRIGHT OWNER OR CONTRIBUTORS BE LIABLE FOR ANY DIRECT, INDIRECT, INCIDENTAL, SPECIAL, EXEMPLARY, OR CONSEQUENTIAL DAMAGES (INCLUDING, BUT NOT LIMITED TO, PROCUREMENT OF SUBSTITUTE GOODS OR SERVICES; LOSS OF USE, DATA, OR PROFITS; OR BUSINESS INTERRUPTION) HOWEVER CAUSED AND ON ANY THEORY OF LIABILITY, WHETHER IN CONTRACT, STRICT LIABILITY, OR TORT (INCLUDING NEGLIGENCE OR OTHERWISE) ARISING IN ANY WAY OUT OF THE USE OF THIS SOFTWARE, EVEN IF ADVISED OF THE POSSIBILITY OF SUCH DAMAGE. "
   ]
  }
 ],
 "metadata": {
  "kernelspec": {
   "display_name": "Python 3",
   "language": "python",
   "name": "python3"
  },
  "language_info": {
   "codemirror_mode": {
    "name": "ipython",
    "version": 3
   },
   "file_extension": ".py",
   "mimetype": "text/x-python",
   "name": "python",
   "nbconvert_exporter": "python",
   "pygments_lexer": "ipython3",
   "version": "3.9.0"
  }
 },
 "nbformat": 4,
 "nbformat_minor": 5
}
